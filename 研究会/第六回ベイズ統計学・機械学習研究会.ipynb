{
  "nbformat": 4,
  "nbformat_minor": 0,
  "metadata": {
    "colab": {
      "name": "第六回ベイズ統計学・機械学習研究会.ipynb",
      "provenance": [],
      "collapsed_sections": [],
      "authorship_tag": "ABX9TyPoIM+ZmO9/Cg763nAspzEc",
      "include_colab_link": true
    },
    "kernelspec": {
      "name": "python3",
      "display_name": "Python 3"
    }
  },
  "cells": [
    {
      "cell_type": "markdown",
      "metadata": {
        "id": "view-in-github",
        "colab_type": "text"
      },
      "source": [
        "<a href=\"https://colab.research.google.com/github/kyoheiii/u-nag_BS-ML-study-group/blob/main/%E7%A0%94%E7%A9%B6%E4%BC%9A/%E7%AC%AC%E5%85%AD%E5%9B%9E%E3%83%99%E3%82%A4%E3%82%BA%E7%B5%B1%E8%A8%88%E5%AD%A6%E3%83%BB%E6%A9%9F%E6%A2%B0%E5%AD%A6%E7%BF%92%E7%A0%94%E7%A9%B6%E4%BC%9A.ipynb\" target=\"_parent\"><img src=\"https://colab.research.google.com/assets/colab-badge.svg\" alt=\"Open In Colab\"/></a>"
      ]
    },
    {
      "cell_type": "markdown",
      "metadata": {
        "id": "4aTNdMTkcmzm"
      },
      "source": [
        "# **第六回ベイズ統計学・機械学習研究会**"
      ]
    },
    {
      "cell_type": "markdown",
      "metadata": {
        "id": "qUnW9KCmogV4"
      },
      "source": [
        "\n",
        "\n",
        "*   ScipyとNumpy\n",
        "*   matplotlib\n",
        "*   棄却サンプリング\n",
        "\n"
      ]
    },
    {
      "cell_type": "markdown",
      "metadata": {
        "id": "76lAh3Plc7y2"
      },
      "source": [
        "# **NumPyとは**\n",
        "\n",
        "Pythonの拡張モジュールです。NumPyを利用することでPythonでの数値計算をより高速に、効率的に行うことができるようになります。"
      ]
    },
    {
      "cell_type": "markdown",
      "metadata": {
        "id": "efs5UVNHqhk6"
      },
      "source": [
        "**NumPy を使う準備**\n",
        "\n",
        "例えば A というモジュールを読み込みたいとき、import A と記述します。 もし A というモジュール名が長い場合は、import A as B のように別名を付けることができます。  import A as B と書くと、A というモジュールは B という名前で利用することができます。 \n",
        "\n",
        "慣習的に、numpy には np という別名が与えられます。 コード中で頻繁に使用するモジュールには、短い別名をつけて定義することがよく行われます。\n",
        "\n",
        "numpy を np という名前で import してみましょう。"
      ]
    },
    {
      "cell_type": "code",
      "metadata": {
        "id": "Gb6E-YEgofFk"
      },
      "source": [
        "import numpy as np"
      ],
      "execution_count": 12,
      "outputs": []
    },
    {
      "cell_type": "markdown",
      "metadata": {
        "id": "qyY34JNL4beo"
      },
      "source": [
        "**多次元配列**\n",
        "\n",
        "NumPy では ndarray というクラスで多次元配列（ベクトルや行列など）を表現します。ベクトルを定義してみましょう。"
      ]
    },
    {
      "cell_type": "code",
      "metadata": {
        "id": "gcIFdgcS6YUR",
        "outputId": "a77a6352-b53d-4409-a8b1-93137c8bce12",
        "colab": {
          "base_uri": "https://localhost:8080/",
          "height": 34
        }
      },
      "source": [
        "a = np.array([2, 3, 4])\n",
        "\n",
        "a"
      ],
      "execution_count": 13,
      "outputs": [
        {
          "output_type": "execute_result",
          "data": {
            "text/plain": [
              "array([2, 3, 4])"
            ]
          },
          "metadata": {
            "tags": []
          },
          "execution_count": 13
        }
      ]
    },
    {
      "cell_type": "markdown",
      "metadata": {
        "id": "rtx19sUU6h0G"
      },
      "source": [
        "shapeを用いての ndarray オブジェクトの形を確認できます。 上で定義した a という ndarray オブジェクトの形を調べてみましょう。"
      ]
    },
    {
      "cell_type": "code",
      "metadata": {
        "id": "iIxQ39ru7O46",
        "outputId": "99f41ffd-8159-41ba-be9c-b5d295835e2d",
        "colab": {
          "base_uri": "https://localhost:8080/",
          "height": 34
        }
      },
      "source": [
        "a.shape"
      ],
      "execution_count": 14,
      "outputs": [
        {
          "output_type": "execute_result",
          "data": {
            "text/plain": [
              "(3,)"
            ]
          },
          "metadata": {
            "tags": []
          },
          "execution_count": 14
        }
      ]
    },
    {
      "cell_type": "markdown",
      "metadata": {
        "id": "jVfSTo-47VFf"
      },
      "source": [
        "次に、 3×2  行列bを定義してみましょう。"
      ]
    },
    {
      "cell_type": "code",
      "metadata": {
        "id": "OGqtsMMl7qHy",
        "outputId": "2970e072-9e85-4350-94a8-b6b8752e75ad",
        "colab": {
          "base_uri": "https://localhost:8080/",
          "height": 68
        }
      },
      "source": [
        "b = np.array([[1,2],\n",
        "              [3,4],\n",
        "              [5,6]])\n",
        "b"
      ],
      "execution_count": 15,
      "outputs": [
        {
          "output_type": "execute_result",
          "data": {
            "text/plain": [
              "array([[1, 2],\n",
              "       [3, 4],\n",
              "       [5, 6]])"
            ]
          },
          "metadata": {
            "tags": []
          },
          "execution_count": 15
        }
      ]
    },
    {
      "cell_type": "markdown",
      "metadata": {
        "id": "bVOucs5i8Czy"
      },
      "source": [
        "bのshapeを確認しましょう。"
      ]
    },
    {
      "cell_type": "code",
      "metadata": {
        "id": "DohSXWKL8XDT",
        "outputId": "13bd3140-eda8-4a9c-fb3e-5366051b9ecb",
        "colab": {
          "base_uri": "https://localhost:8080/",
          "height": 34
        }
      },
      "source": [
        "b.shape"
      ],
      "execution_count": 16,
      "outputs": [
        {
          "output_type": "execute_result",
          "data": {
            "text/plain": [
              "(3, 2)"
            ]
          },
          "metadata": {
            "tags": []
          },
          "execution_count": 16
        }
      ]
    },
    {
      "cell_type": "markdown",
      "metadata": {
        "id": "kKxtf-HK8rvP"
      },
      "source": [
        "**特別なndarray**\n",
        "\n",
        "特別な形の行列や、よく使う行列には関数が用意されています。"
      ]
    },
    {
      "cell_type": "markdown",
      "metadata": {
        "id": "-cjr6rRT9WKS"
      },
      "source": [
        "ゼロで埋め尽くされた行列"
      ]
    },
    {
      "cell_type": "code",
      "metadata": {
        "id": "PeaDNxa59QvF",
        "outputId": "55396cad-8e06-49ee-ed0d-0ac96b377478",
        "colab": {
          "base_uri": "https://localhost:8080/",
          "height": 68
        }
      },
      "source": [
        "a = np.zeros((3, 3))\n",
        "\n",
        "a"
      ],
      "execution_count": 17,
      "outputs": [
        {
          "output_type": "execute_result",
          "data": {
            "text/plain": [
              "array([[0., 0., 0.],\n",
              "       [0., 0., 0.],\n",
              "       [0., 0., 0.]])"
            ]
          },
          "metadata": {
            "tags": []
          },
          "execution_count": 17
        }
      ]
    },
    {
      "cell_type": "markdown",
      "metadata": {
        "id": "ziLoPHib9bIV"
      },
      "source": [
        "1で埋められた行列"
      ]
    },
    {
      "cell_type": "code",
      "metadata": {
        "id": "bNGb24Xk9e_T",
        "outputId": "e66d4922-c807-4fe2-d1af-052a6f88fca9",
        "colab": {
          "base_uri": "https://localhost:8080/",
          "height": 51
        }
      },
      "source": [
        "b = np.ones((2, 3))\n",
        "\n",
        "b"
      ],
      "execution_count": 18,
      "outputs": [
        {
          "output_type": "execute_result",
          "data": {
            "text/plain": [
              "array([[1., 1., 1.],\n",
              "       [1., 1., 1.]])"
            ]
          },
          "metadata": {
            "tags": []
          },
          "execution_count": 18
        }
      ]
    },
    {
      "cell_type": "markdown",
      "metadata": {
        "id": "QjNuQQal9kv5"
      },
      "source": [
        "単位行列"
      ]
    },
    {
      "cell_type": "code",
      "metadata": {
        "id": "fpUW1Zq39y-U",
        "outputId": "57a5ed5d-19e1-463b-ba0a-029a1559df95",
        "colab": {
          "base_uri": "https://localhost:8080/",
          "height": 102
        }
      },
      "source": [
        "c = np.eye(5)\n",
        "\n",
        "c"
      ],
      "execution_count": 19,
      "outputs": [
        {
          "output_type": "execute_result",
          "data": {
            "text/plain": [
              "array([[1., 0., 0., 0., 0.],\n",
              "       [0., 1., 0., 0., 0.],\n",
              "       [0., 0., 1., 0., 0.],\n",
              "       [0., 0., 0., 1., 0.],\n",
              "       [0., 0., 0., 0., 1.]])"
            ]
          },
          "metadata": {
            "tags": []
          },
          "execution_count": 19
        }
      ]
    },
    {
      "cell_type": "markdown",
      "metadata": {
        "id": "K_Lz1gyt93mp"
      },
      "source": [
        "ある値で埋められた行列"
      ]
    },
    {
      "cell_type": "code",
      "metadata": {
        "id": "Kr40ytRi97fG",
        "outputId": "9d4d6440-32a6-41b0-85ce-5753cd20a2f5",
        "colab": {
          "base_uri": "https://localhost:8080/",
          "height": 68
        }
      },
      "source": [
        "d = np.full((3, 2), 9)\n",
        "\n",
        "d"
      ],
      "execution_count": 20,
      "outputs": [
        {
          "output_type": "execute_result",
          "data": {
            "text/plain": [
              "array([[9, 9],\n",
              "       [9, 9],\n",
              "       [9, 9]])"
            ]
          },
          "metadata": {
            "tags": []
          },
          "execution_count": 20
        }
      ]
    },
    {
      "cell_type": "markdown",
      "metadata": {
        "id": "wdppACT_-LUU"
      },
      "source": [
        "0から1までの間の乱数で埋められた行列"
      ]
    },
    {
      "cell_type": "code",
      "metadata": {
        "id": "nM2w4uqQ-MXC",
        "outputId": "0401bb69-85fa-4809-a9ca-6b6e8311be06",
        "colab": {
          "base_uri": "https://localhost:8080/",
          "height": 85
        }
      },
      "source": [
        "e = np.random.random((4, 5))\n",
        "\n",
        "e"
      ],
      "execution_count": 21,
      "outputs": [
        {
          "output_type": "execute_result",
          "data": {
            "text/plain": [
              "array([[0.34180459, 0.27218652, 0.54227292, 0.03316849, 0.00489782],\n",
              "       [0.63177538, 0.61997256, 0.73254601, 0.73527688, 0.27954721],\n",
              "       [0.69246674, 0.39395381, 0.67165994, 0.37771647, 0.05679044],\n",
              "       [0.26151336, 0.39626719, 0.96394369, 0.64387807, 0.53157884]])"
            ]
          },
          "metadata": {
            "tags": []
          },
          "execution_count": 21
        }
      ]
    },
    {
      "cell_type": "markdown",
      "metadata": {
        "id": "-j4KYh4vAZUT"
      },
      "source": [
        "行列計算を得意とするライブラリなので単純な四則演算だけでなく\n",
        "\n",
        "ドット積(http://w3e.kanazawa-it.ac.jp/math/category/gyouretu/henkan-tex.cgi?target=/math/category/gyouretu/gyouretu-no-seki.html)\n",
        "\n",
        "逆行列(https://www.geisya.or.jp/~mwm48961/electro/inv_matrix1.htm)\n",
        "\n",
        "などを求める関数もあります。"
      ]
    },
    {
      "cell_type": "markdown",
      "metadata": {
        "id": "Zm4pDh5odRIH"
      },
      "source": [
        "# **SciPyとは**\n",
        "\n",
        "統計などの高度な数学的計算を簡単に実行することができる拡張機能です。NumPyをもとに作られました。"
      ]
    },
    {
      "cell_type": "markdown",
      "metadata": {
        "id": "m6uVPNlfCbtH"
      },
      "source": [
        "**SciPyを使う準備**\n",
        "\n",
        "SciPyは機能が豊富なので使いたい機能だけインポートします。\n",
        "\n",
        "今回は確率密度関数など統計計算用モジュールのstatsを読み込みます。\n",
        "\n",
        "SciPyに使用にはNumPyを前提としているので一緒にインポートしましょう。"
      ]
    },
    {
      "cell_type": "code",
      "metadata": {
        "id": "cM80wZ0HNy0H"
      },
      "source": [
        "import numpy as np\n",
        "from scipy import stats"
      ],
      "execution_count": 22,
      "outputs": []
    },
    {
      "cell_type": "markdown",
      "metadata": {
        "id": "LmFj6vRWB4ok"
      },
      "source": [
        "確率分布の値を得るにあたって、いくつかの関数が実装されています。よく使うもの\n",
        "は、確率密度関数の値を得るpdf(Probability Density Function)と累積分布関数の値を得るcdf(Cumulative Distribution Function)などが挙げられるかと思います。また、mean(平均)、std(標準偏差)、var(分散)などもあります。"
      ]
    },
    {
      "cell_type": "code",
      "metadata": {
        "id": "tj_iZspwO4m1",
        "outputId": "0765653c-0db5-4bb4-db7e-af5282879436",
        "colab": {
          "base_uri": "https://localhost:8080/",
          "height": 68
        }
      },
      "source": [
        "print(stats.norm.pdf(0)) #正規分布においてx=0の値を返す\n",
        "print(stats.norm.cdf(0)) #正規分布の累積分布関数においてx=0の値\n",
        "print(stats.norm.mean(), norm.std(), norm.var())"
      ],
      "execution_count": 23,
      "outputs": [
        {
          "output_type": "stream",
          "text": [
            "0.3989422804014327\n",
            "0.5\n",
            "0.0 1.0 1.0\n"
          ],
          "name": "stdout"
        }
      ]
    },
    {
      "cell_type": "markdown",
      "metadata": {
        "id": "a4TCHlmbRKGO"
      },
      "source": [
        "確率分布のプロットも後で説明するmatplotlibと組み合わせることで簡単に実行できます。"
      ]
    },
    {
      "cell_type": "code",
      "metadata": {
        "id": "lUxWNUpNQ4xt",
        "outputId": "ec533f8c-5962-4ef2-d5fc-fcefb54df224",
        "colab": {
          "base_uri": "https://localhost:8080/",
          "height": 282
        }
      },
      "source": [
        "a = 1.5\n",
        "b = 2.0\n",
        "x = np.linspace(0,1,1000) #描画範囲を指定しています\n",
        "plt.plot(x, stats.beta.pdf(x,a,b))"
      ],
      "execution_count": 24,
      "outputs": [
        {
          "output_type": "execute_result",
          "data": {
            "text/plain": [
              "[<matplotlib.lines.Line2D at 0x7fb3ef0ed198>]"
            ]
          },
          "metadata": {
            "tags": []
          },
          "execution_count": 24
        },
        {
          "output_type": "display_data",
          "data": {
            "image/png": "[encoded data removed]",
            "text/plain": [
              "<Figure size 432x288 with 1 Axes>"
            ]
          },
          "metadata": {
            "tags": [],
            "needs_background": "light"
          }
        }
      ]
    },
    {
      "cell_type": "markdown",
      "metadata": {
        "id": "y5Fem57-PKve"
      },
      "source": [
        "科学計算に関することは大体できます。今回1回では説明しきれないので今後出てくることがあればその都度説明しようと思います。"
      ]
    },
    {
      "cell_type": "markdown",
      "metadata": {
        "id": "Xdx22OLedv1B"
      },
      "source": [
        "# **matplotlibとは**\n",
        "\n",
        "様々な種類のグラフを描画したり、イメージを表示したりすることができるようになる拡張機能です。"
      ]
    },
    {
      "cell_type": "markdown",
      "metadata": {
        "id": "4Vf5_pb7RdwR"
      },
      "source": [
        "**matplotlibを使う準備**\n",
        "\n",
        "グラフの描画を行う際は Matplotlib が便利です。 Matplotlib は matplotlib.pyplot を plt という別名をつけて読み込むのが一般的です。"
      ]
    },
    {
      "cell_type": "code",
      "metadata": {
        "id": "a38ELU2WSKtD"
      },
      "source": [
        "\n",
        "%matplotlib inline\n",
        "import matplotlib.pyplot as plt"
      ],
      "execution_count": 25,
      "outputs": []
    },
    {
      "cell_type": "markdown",
      "metadata": {
        "id": "WIqWxXfCX2vc"
      },
      "source": [
        "**散布図**\n",
        "\n",
        "Matplotlib では与えられた配列から散布図を作成する `plt.scatter()` が用意されています。\n",
        "NumPyで乱数を発生させてプロットしてみましょう。"
      ]
    },
    {
      "cell_type": "code",
      "metadata": {
        "id": "aQDuZ4z3X2M4",
        "outputId": "b8de8947-44eb-49e2-a9aa-d644e7157c52",
        "colab": {
          "base_uri": "https://localhost:8080/",
          "height": 282
        }
      },
      "source": [
        "x = np.random.random(10)\n",
        "y = np.random.random(10)\n",
        "plt.scatter(x, y)"
      ],
      "execution_count": 26,
      "outputs": [
        {
          "output_type": "execute_result",
          "data": {
            "text/plain": [
              "<matplotlib.collections.PathCollection at 0x7fb3ef0c5f98>"
            ]
          },
          "metadata": {
            "tags": []
          },
          "execution_count": 26
        },
        {
          "output_type": "display_data",
          "data": {
            "image/png": "[encoded data removed]",
            "text/plain": [
              "<Figure size 432x288 with 1 Axes>"
            ]
          },
          "metadata": {
            "tags": [],
            "needs_background": "light"
          }
        }
      ]
    },
    {
      "cell_type": "markdown",
      "metadata": {
        "id": "Kz1AD8kfZn3v"
      },
      "source": [
        "**ヒストグラム**\n",
        "\n",
        "試しに、NumPyでアレイを作ってヒストグラムを描画してみましょう。"
      ]
    },
    {
      "cell_type": "code",
      "metadata": {
        "id": "d9c8c4L8ZO-v",
        "outputId": "3dec1e4e-4601-42d6-8184-ef3a14e1eab4",
        "colab": {
          "base_uri": "https://localhost:8080/",
          "height": 350
        }
      },
      "source": [
        "hist_x = np.random.random(100)\n",
        "plt.hist(hist_x)"
      ],
      "execution_count": 27,
      "outputs": [
        {
          "output_type": "execute_result",
          "data": {
            "text/plain": [
              "(array([11., 10.,  6., 15., 10., 13.,  8.,  5., 12., 10.]),\n",
              " array([0.0422006 , 0.13782713, 0.23345366, 0.32908019, 0.42470672,\n",
              "        0.52033326, 0.61595979, 0.71158632, 0.80721285, 0.90283938,\n",
              "        0.99846591]),\n",
              " <a list of 10 Patch objects>)"
            ]
          },
          "metadata": {
            "tags": []
          },
          "execution_count": 27
        },
        {
          "output_type": "display_data",
          "data": {
            "image/png": "[encoded data removed]",
            "text/plain": [
              "<Figure size 432x288 with 1 Axes>"
            ]
          },
          "metadata": {
            "tags": [],
            "needs_background": "light"
          }
        }
      ]
    },
    {
      "cell_type": "markdown",
      "metadata": {
        "id": "6gAqjl-jaaqN"
      },
      "source": [
        "**箱ひげ図**\n",
        "\n",
        "描画には、`plt.boxplot()` を用います。"
      ]
    },
    {
      "cell_type": "code",
      "metadata": {
        "id": "ISN3PwH5aHpm",
        "outputId": "99acefac-8107-4456-80e8-7d54bacb8cfb",
        "colab": {
          "base_uri": "https://localhost:8080/",
          "height": 520
        }
      },
      "source": [
        "box_x1 = np.random.random(100)\n",
        "box_x2 = np.random.random(100)\n",
        "plt.boxplot((box_x1,box_x2))"
      ],
      "execution_count": 28,
      "outputs": [
        {
          "output_type": "execute_result",
          "data": {
            "text/plain": [
              "{'boxes': [<matplotlib.lines.Line2D at 0x7fb3ef1e8eb8>,\n",
              "  <matplotlib.lines.Line2D at 0x7fb3ef16bb38>],\n",
              " 'caps': [<matplotlib.lines.Line2D at 0x7fb3ef1a57b8>,\n",
              "  <matplotlib.lines.Line2D at 0x7fb3ef8290b8>,\n",
              "  <matplotlib.lines.Line2D at 0x7fb3ef0fd828>,\n",
              "  <matplotlib.lines.Line2D at 0x7fb3ef0ed588>],\n",
              " 'fliers': [<matplotlib.lines.Line2D at 0x7fb3ef1fcf60>,\n",
              "  <matplotlib.lines.Line2D at 0x7fb3ef09dbe0>],\n",
              " 'means': [],\n",
              " 'medians': [<matplotlib.lines.Line2D at 0x7fb3ef829898>,\n",
              "  <matplotlib.lines.Line2D at 0x7fb3ef09df60>],\n",
              " 'whiskers': [<matplotlib.lines.Line2D at 0x7fb3ef19fcf8>,\n",
              "  <matplotlib.lines.Line2D at 0x7fb3ef1a59b0>,\n",
              "  <matplotlib.lines.Line2D at 0x7fb3ef207f60>,\n",
              "  <matplotlib.lines.Line2D at 0x7fb3ef0fd748>]}"
            ]
          },
          "metadata": {
            "tags": []
          },
          "execution_count": 28
        },
        {
          "output_type": "display_data",
          "data": {
            "image/png": "[encoded data removed]",
            "text/plain": [
              "<Figure size 432x288 with 1 Axes>"
            ]
          },
          "metadata": {
            "tags": [],
            "needs_background": "light"
          }
        }
      ]
    },
    {
      "cell_type": "markdown",
      "metadata": {
        "id": "xOI0kds4bsoh"
      },
      "source": [
        "**折れ線グラフ**\n",
        "\n",
        "折れ線グラフは、時系列データなどを表示する際に便利なグラフです。\n",
        "`plt.plot()` を用いて描画します。\n",
        "\n",
        "それでは、NumPy を用いて作成したデータを、`plt.plot()` で表示してみましょう。"
      ]
    },
    {
      "cell_type": "code",
      "metadata": {
        "id": "KesM77f4anEX",
        "outputId": "b91cfb15-3f77-48e9-a527-eacfaf7542e5",
        "colab": {
          "base_uri": "https://localhost:8080/",
          "height": 282
        }
      },
      "source": [
        "lin_x = np.linspace(0,1,100)\n",
        "y = lin_x + np.random.random(100)\n",
        "plt.plot(y)"
      ],
      "execution_count": 29,
      "outputs": [
        {
          "output_type": "execute_result",
          "data": {
            "text/plain": [
              "[<matplotlib.lines.Line2D at 0x7fb3ef013ba8>]"
            ]
          },
          "metadata": {
            "tags": []
          },
          "execution_count": 29
        },
        {
          "output_type": "display_data",
          "data": {
            "image/png": "[encoded data removed]",
            "text/plain": [
              "<Figure size 432x288 with 1 Axes>"
            ]
          },
          "metadata": {
            "tags": [],
            "needs_background": "light"
          }
        }
      ]
    },
    {
      "cell_type": "code",
      "metadata": {
        "id": "KI8-A-VFcQaP",
        "outputId": "b89bc4f9-c243-40a4-f1d4-a6a3fc6e8027",
        "colab": {
          "base_uri": "https://localhost:8080/",
          "height": 282
        }
      },
      "source": [
        "plt.plot(lin_x, y)"
      ],
      "execution_count": 30,
      "outputs": [
        {
          "output_type": "execute_result",
          "data": {
            "text/plain": [
              "[<matplotlib.lines.Line2D at 0x7fb3eef39748>]"
            ]
          },
          "metadata": {
            "tags": []
          },
          "execution_count": 30
        },
        {
          "output_type": "display_data",
          "data": {
            "image/png": "[encoded data removed]",
            "text/plain": [
              "<Figure size 432x288 with 1 Axes>"
            ]
          },
          "metadata": {
            "tags": [],
            "needs_background": "light"
          }
        }
      ]
    },
    {
      "cell_type": "markdown",
      "metadata": {
        "id": "Q3jSGiH6gqjh"
      },
      "source": [
        "練習問題\n",
        "\n",
        "\n",
        "*   NumPy.SciPyのstatsモジュール.matplotlibをインポートしましょう\n",
        "*   NumPyで2行3列の行列を作りましょう。中身はお任せします。\n",
        "*  NumPyで3行4列で8で埋め尽くされた行列を作りましょう。\n",
        "*  NumPyで乱数を20個生成し、箱ひげ図とヒストグラムをプロットしましょう。\n",
        "*  SciPyとmatplotlibを使って平均0、標準偏差1の正規分布を-5から5の範囲でプロットしてみましょう。正規分布のプロットにはstats.norm.pdf(x,loc=平均,scale=標準偏差)と書きます。xが描画範囲、locが平均、scaleが標準偏差を表します。\n",
        "\n",
        "\n"
      ]
    },
    {
      "cell_type": "markdown",
      "metadata": {
        "id": "eFC9FJb2ezLG"
      },
      "source": [
        "# **棄却サンプリングとは**\n",
        "\n",
        "棄却サンプリングとは確率分布に対するモンテカルロ法です。\n",
        "基本的には円周率の近似値を計算した前回のモンテカルロ法と考え方は変わりません。\n",
        "コードを実行しながら理解していきましょう。"
      ]
    },
    {
      "cell_type": "markdown",
      "metadata": {
        "id": "fSBslQ87g5fK"
      },
      "source": [
        "**棄却サンプリングの対象**\n",
        "\n",
        "ベータ分布と標準正規分布を推定していきます。推定の対象となる分布f()を目標分布、乱数を発生させる一様分布g()を提案分布といいます。\n",
        "\n",
        "目標分布の最大値にピッタリ張り付くような提案分布を用意し、提案分布から乱数を発生させます。目標分布に入っていれば採択、入っていなければ棄却します。"
      ]
    },
    {
      "cell_type": "markdown",
      "metadata": {
        "id": "VACQsVWifyKZ"
      },
      "source": [
        "**棄却サンプリングの流れ**\n",
        "\n",
        "\n",
        "\n",
        "1.  提案分布から乱数を発生させる\n",
        "2.   発生させた乱数が目標分布に入っていればカウントする\n",
        "3.  1と2を指定の回数繰り返す\n",
        "\n"
      ]
    },
    {
      "cell_type": "markdown",
      "metadata": {
        "id": "tGWVEpPDiql9"
      },
      "source": [
        "**必要なライブラリのインポート**"
      ]
    },
    {
      "cell_type": "code",
      "metadata": {
        "id": "ztg4OYNwHakJ"
      },
      "source": [
        "import numpy as np\n",
        "from scipy import stats\n",
        "from scipy import optimize as opt\n",
        "from scipy.stats import beta, uniform, norm\n",
        "import matplotlib.pyplot as plt\n",
        "import math\n",
        "%matplotlib inline"
      ],
      "execution_count": 31,
      "outputs": []
    },
    {
      "cell_type": "code",
      "metadata": {
        "id": "4P_5Eu29JeQU"
      },
      "source": [
        "plt.style.use(\"ggplot\")\n",
        "np.random.seed(123)"
      ],
      "execution_count": 32,
      "outputs": []
    },
    {
      "cell_type": "markdown",
      "metadata": {
        "id": "CD_v_P_fiwXT"
      },
      "source": [
        "**対象となるベータ分布**"
      ]
    },
    {
      "cell_type": "code",
      "metadata": {
        "id": "GIWzkG7AJs7B",
        "outputId": "5a0a8790-206b-423c-861c-7d21ef05440f",
        "colab": {
          "base_uri": "https://localhost:8080/",
          "height": 282
        }
      },
      "source": [
        "a = 1.5\n",
        "b = 2.0\n",
        "x = np.linspace(0,1,1000) #分布を描く範囲を決めます\n",
        "plt.plot(x, stats.beta.pdf(x,a,b))"
      ],
      "execution_count": 33,
      "outputs": [
        {
          "output_type": "execute_result",
          "data": {
            "text/plain": [
              "[<matplotlib.lines.Line2D at 0x7fb3eee9fa90>]"
            ]
          },
          "metadata": {
            "tags": []
          },
          "execution_count": 33
        },
        {
          "output_type": "display_data",
          "data": {
            "image/png": "[encoded data removed]",
            "text/plain": [
              "<Figure size 432x288 with 1 Axes>"
            ]
          },
          "metadata": {
            "tags": []
          }
        }
      ]
    },
    {
      "cell_type": "markdown",
      "metadata": {
        "id": "pAnTAciajNra"
      },
      "source": [
        "**提案分布作成のために目標分布の最大値を算出**"
      ]
    },
    {
      "cell_type": "code",
      "metadata": {
        "id": "r8k0rZ4pLq0B",
        "outputId": "c21e47cc-ff9d-4c40-d8b9-ddc3565be609",
        "colab": {
          "base_uri": "https://localhost:8080/",
          "height": 85
        }
      },
      "source": [
        "x = np.linspace(0,1,1000) #分布を描く範囲（x軸）\n",
        "f = stats.beta(a=a, b=b).pdf #ベータ分布を数式のまま変数に代入\n",
        "res = opt.fmin(lambda x: -f(x), 0.3) #数式の最大値を取るxをopt関数で算出。\n",
        "y_max = f(res)"
      ],
      "execution_count": 34,
      "outputs": [
        {
          "output_type": "stream",
          "text": [
            "Optimization terminated successfully.\n",
            "         Current function value: -1.443376\n",
            "         Iterations: 10\n",
            "         Function evaluations: 20\n"
          ],
          "name": "stdout"
        }
      ]
    },
    {
      "cell_type": "code",
      "metadata": {
        "id": "QRM__r4TNf4a",
        "outputId": "8c95ff78-4962-4d54-a68c-50cff21b60cb",
        "colab": {
          "base_uri": "https://localhost:8080/",
          "height": 34
        }
      },
      "source": [
        "y_max"
      ],
      "execution_count": 35,
      "outputs": [
        {
          "output_type": "execute_result",
          "data": {
            "text/plain": [
              "array([1.44337567])"
            ]
          },
          "metadata": {
            "tags": []
          },
          "execution_count": 35
        }
      ]
    },
    {
      "cell_type": "markdown",
      "metadata": {
        "id": "XDhU5XsVjkCa"
      },
      "source": [
        "今回使う一様分布"
      ]
    },
    {
      "cell_type": "code",
      "metadata": {
        "id": "Kw6J7XDiyI-q",
        "outputId": "aa9fc005-f0d1-4d64-b69a-60c427708a5b",
        "colab": {
          "base_uri": "https://localhost:8080/",
          "height": 282
        }
      },
      "source": [
        "x = np.linspace(-1,2,1000)\n",
        "plt.plot(x, stats.uniform.pdf(x,loc =0,scale=1))"
      ],
      "execution_count": 36,
      "outputs": [
        {
          "output_type": "execute_result",
          "data": {
            "text/plain": [
              "[<matplotlib.lines.Line2D at 0x7fb3eee88860>]"
            ]
          },
          "metadata": {
            "tags": []
          },
          "execution_count": 36
        },
        {
          "output_type": "display_data",
          "data": {
            "image/png": "[encoded data removed]",
            "text/plain": [
              "<Figure size 432x288 with 1 Axes>"
            ]
          },
          "metadata": {
            "tags": []
          }
        }
      ]
    },
    {
      "cell_type": "markdown",
      "metadata": {
        "id": "ZIpZidwujoY0"
      },
      "source": [
        "**ベータ分布に対する棄却サンプリング**"
      ]
    },
    {
      "cell_type": "code",
      "metadata": {
        "id": "HF2GbGs_Nrs0",
        "outputId": "e7d37326-48be-487f-8531-0c55f74d1ebb",
        "colab": {
          "base_uri": "https://localhost:8080/",
          "height": 282
        }
      },
      "source": [
        "f = stats.beta(a=a, b=b).pdf #数式のまま変数に代入\n",
        "N = 5000          #サンプリングする回数\n",
        "x_mc = stats.uniform.rvs(size = N) #一様分布からN個サンプリング\n",
        "r = stats.uniform.rvs(size = N) * y_max #y_max倍することで一様分布を目標分布にピッタリ合うようにする\n",
        "accept = x_mc[ r <= f(x_mc)]\n",
        "plt.hist(accept, density = True, bins = 30,rwidth = 0.8)\n",
        "a = 1.5\n",
        "b = 2.0\n",
        "x = np.linspace(0,1,1000)\n",
        "plt.plot(x, stats.beta.pdf(x,a,b))"
      ],
      "execution_count": 37,
      "outputs": [
        {
          "output_type": "execute_result",
          "data": {
            "text/plain": [
              "[<matplotlib.lines.Line2D at 0x7fb3eee60d68>]"
            ]
          },
          "metadata": {
            "tags": []
          },
          "execution_count": 37
        },
        {
          "output_type": "display_data",
          "data": {
            "image/png": "[encoded data removed]",
            "text/plain": [
              "<Figure size 432x288 with 1 Axes>"
            ]
          },
          "metadata": {
            "tags": []
          }
        }
      ]
    },
    {
      "cell_type": "markdown",
      "metadata": {
        "id": "hM39RVRPj0zb"
      },
      "source": [
        "**標準正規分布の棄却サンプリング**"
      ]
    },
    {
      "cell_type": "code",
      "metadata": {
        "id": "SiXt_Fy4ZJA9",
        "outputId": "8e99547b-13f6-450e-f11d-697ff7d80a40",
        "colab": {
          "base_uri": "https://localhost:8080/",
          "height": 85
        }
      },
      "source": [
        "f = norm(loc = 0,scale = 1).pdf\n",
        "res = opt.fmin(lambda x: -f(x), -3)\n",
        "y_max = f(res)"
      ],
      "execution_count": 38,
      "outputs": [
        {
          "output_type": "stream",
          "text": [
            "Optimization terminated successfully.\n",
            "         Current function value: -0.398942\n",
            "         Iterations: 19\n",
            "         Function evaluations: 38\n"
          ],
          "name": "stdout"
        }
      ]
    },
    {
      "cell_type": "code",
      "metadata": {
        "id": "Md3ThJ4IpHxR",
        "outputId": "6706ab88-c1c8-46bc-82dc-7aa3f2ce3b6c",
        "colab": {
          "base_uri": "https://localhost:8080/",
          "height": 34
        }
      },
      "source": [
        "y_max"
      ],
      "execution_count": 39,
      "outputs": [
        {
          "output_type": "execute_result",
          "data": {
            "text/plain": [
              "array([0.39894228])"
            ]
          },
          "metadata": {
            "tags": []
          },
          "execution_count": 39
        }
      ]
    },
    {
      "cell_type": "code",
      "metadata": {
        "id": "DZ31MjqKpw1d",
        "outputId": "1758242c-93f8-463c-f150-b8d8195513b2",
        "colab": {
          "base_uri": "https://localhost:8080/",
          "height": 282
        }
      },
      "source": [
        "x = np.linspace(0,10,1000)\n",
        "plt.plot(x, stats.uniform.pdf(x,loc =0,scale=10))"
      ],
      "execution_count": 40,
      "outputs": [
        {
          "output_type": "execute_result",
          "data": {
            "text/plain": [
              "[<matplotlib.lines.Line2D at 0x7fb3eed32f60>]"
            ]
          },
          "metadata": {
            "tags": []
          },
          "execution_count": 40
        },
        {
          "output_type": "display_data",
          "data": {
            "image/png": "[encoded data removed]",
            "text/plain": [
              "<Figure size 432x288 with 1 Axes>"
            ]
          },
          "metadata": {
            "tags": []
          }
        }
      ]
    },
    {
      "cell_type": "code",
      "metadata": {
        "id": "Kuy4OmE5pXqi",
        "outputId": "3c9bfe93-0c86-407a-98ed-8f89e07771e7",
        "colab": {
          "base_uri": "https://localhost:8080/",
          "height": 282
        }
      },
      "source": [
        "f = stats.norm(loc = 5,scale = 1).pdf\n",
        "N = 1000000\n",
        "x_mc = stats.uniform.rvs(loc =0,scale=10,size = N)\n",
        "r = stats.uniform.rvs(loc =0,scale=10,size = N) * y_max\n",
        "accept = x_mc[ r <= f(x_mc)]\n",
        "plt.hist(accept, density = True, bins = 100,rwidth = 0.5)\n",
        "x = np.linspace(0,10,1000)\n",
        "plt.plot(x, stats.norm.pdf(x=x,loc=5,scale=1))"
      ],
      "execution_count": 41,
      "outputs": [
        {
          "output_type": "execute_result",
          "data": {
            "text/plain": [
              "[<matplotlib.lines.Line2D at 0x7fb3eeef87b8>]"
            ]
          },
          "metadata": {
            "tags": []
          },
          "execution_count": 41
        },
        {
          "output_type": "display_data",
          "data": {
            "image/png": "[encoded data removed]",
            "text/plain": [
              "<Figure size 432x288 with 1 Axes>"
            ]
          },
          "metadata": {
            "tags": []
          }
        }
      ]
    }
  ]
}