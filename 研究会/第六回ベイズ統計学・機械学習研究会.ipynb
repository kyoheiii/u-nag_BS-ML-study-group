{
  "nbformat": 4,
  "nbformat_minor": 0,
  "metadata": {
    "colab": {
      "name": "第六回ベイズ統計学・機械学習研究会.ipynb",
      "provenance": [],
      "collapsed_sections": [],
      "authorship_tag": "ABX9TyP/RGbkhSh26YTlQxn+wNQX",
      "include_colab_link": true
    },
    "kernelspec": {
      "name": "python3",
      "display_name": "Python 3"
    }
  },
  "cells": [
    {
      "cell_type": "markdown",
      "metadata": {
        "id": "view-in-github",
        "colab_type": "text"
      },
      "source": [
        "<a href=\"https://colab.research.google.com/github/kyoheiii/u-nag_BS-ML-study-group/blob/main/%E7%A0%94%E7%A9%B6%E4%BC%9A/%E7%AC%AC%E5%85%AD%E5%9B%9E%E3%83%99%E3%82%A4%E3%82%BA%E7%B5%B1%E8%A8%88%E5%AD%A6%E3%83%BB%E6%A9%9F%E6%A2%B0%E5%AD%A6%E7%BF%92%E7%A0%94%E7%A9%B6%E4%BC%9A.ipynb\" target=\"_parent\"><img src=\"https://colab.research.google.com/assets/colab-badge.svg\" alt=\"Open In Colab\"/></a>"
      ]
    },
    {
      "cell_type": "markdown",
      "metadata": {
        "id": "qUnW9KCmogV4"
      },
      "source": [
        "\n",
        "\n",
        "*   ScipyとNumpy\n",
        "*   matplotlib\n",
        "*   棄却サンプリング\n",
        "\n"
      ]
    },
    {
      "cell_type": "markdown",
      "metadata": {
        "id": "76lAh3Plc7y2"
      },
      "source": [
        "# **NumPyとは**\n",
        "\n",
        "プログラミング言語であるPythonの拡張モジュールです。NumPyを利用することでPythonでの数値計算をより高速に、効率的に行うことができるようになります。"
      ]
    },
    {
      "cell_type": "markdown",
      "metadata": {
        "id": "efs5UVNHqhk6"
      },
      "source": [
        "**NumPy を使う準備**\n",
        "\n",
        "例えば A というモジュールを読み込みたいとき、import A と記述します。 もし A というモジュール名が長い場合は、import A as B のように別名を付けることができます。  import A as B と書くと、A というモジュールは B という名前で利用することができます。 \n",
        "\n",
        "慣習的に、numpy には np という別名が与えられます。 コード中で頻繁に使用するモジュールには、短い別名をつけて定義することがよく行われます。\n",
        "\n",
        "numpy を np という名前で import してみましょう。"
      ]
    },
    {
      "cell_type": "code",
      "metadata": {
        "id": "Gb6E-YEgofFk"
      },
      "source": [
        "import numpy as np"
      ],
      "execution_count": 71,
      "outputs": []
    },
    {
      "cell_type": "markdown",
      "metadata": {
        "id": "qyY34JNL4beo"
      },
      "source": [
        "**多次元配列**\n",
        "\n",
        "NumPy では ndarray というクラスで多次元配列（ベクトルや行列など）を表現します。ベクトルを定義してみましょう。"
      ]
    },
    {
      "cell_type": "code",
      "metadata": {
        "id": "gcIFdgcS6YUR",
        "outputId": "ae46d1f4-8a6b-4cad-ff64-5b74fb1d306b",
        "colab": {
          "base_uri": "https://localhost:8080/",
          "height": 34
        }
      },
      "source": [
        "a = np.array([2, 3, 4])\n",
        "\n",
        "a"
      ],
      "execution_count": 72,
      "outputs": [
        {
          "output_type": "execute_result",
          "data": {
            "text/plain": [
              "array([2, 3, 4])"
            ]
          },
          "metadata": {
            "tags": []
          },
          "execution_count": 72
        }
      ]
    },
    {
      "cell_type": "markdown",
      "metadata": {
        "id": "rtx19sUU6h0G"
      },
      "source": [
        "shapeを用いての ndarray オブジェクトの形を確認できます。 上で定義した a という ndarray オブジェクトの形を調べてみましょう。"
      ]
    },
    {
      "cell_type": "code",
      "metadata": {
        "id": "iIxQ39ru7O46",
        "outputId": "f02a3896-d3a8-47aa-c146-850299b6c05d",
        "colab": {
          "base_uri": "https://localhost:8080/",
          "height": 34
        }
      },
      "source": [
        "a.shape"
      ],
      "execution_count": 73,
      "outputs": [
        {
          "output_type": "execute_result",
          "data": {
            "text/plain": [
              "(3,)"
            ]
          },
          "metadata": {
            "tags": []
          },
          "execution_count": 73
        }
      ]
    },
    {
      "cell_type": "markdown",
      "metadata": {
        "id": "jVfSTo-47VFf"
      },
      "source": [
        "次に、 3×2  行列bを定義してみましょう。"
      ]
    },
    {
      "cell_type": "code",
      "metadata": {
        "id": "OGqtsMMl7qHy",
        "outputId": "01442ca6-ec53-4b37-e210-96c580b18af5",
        "colab": {
          "base_uri": "https://localhost:8080/",
          "height": 68
        }
      },
      "source": [
        "b = np.array([[1,2],\n",
        "              [3,4],\n",
        "              [5,6]])\n",
        "b"
      ],
      "execution_count": 74,
      "outputs": [
        {
          "output_type": "execute_result",
          "data": {
            "text/plain": [
              "array([[1, 2],\n",
              "       [3, 4],\n",
              "       [5, 6]])"
            ]
          },
          "metadata": {
            "tags": []
          },
          "execution_count": 74
        }
      ]
    },
    {
      "cell_type": "markdown",
      "metadata": {
        "id": "bVOucs5i8Czy"
      },
      "source": [
        "bのshapeを確認しましょう。"
      ]
    },
    {
      "cell_type": "code",
      "metadata": {
        "id": "DohSXWKL8XDT",
        "outputId": "b1d571db-6aab-4dfe-fd78-60ec84e2eddb",
        "colab": {
          "base_uri": "https://localhost:8080/",
          "height": 34
        }
      },
      "source": [
        "b.shape"
      ],
      "execution_count": 75,
      "outputs": [
        {
          "output_type": "execute_result",
          "data": {
            "text/plain": [
              "(3, 2)"
            ]
          },
          "metadata": {
            "tags": []
          },
          "execution_count": 75
        }
      ]
    },
    {
      "cell_type": "markdown",
      "metadata": {
        "id": "kKxtf-HK8rvP"
      },
      "source": [
        "**特別なndarray**\n",
        "\n",
        "特別な形の行列や、よく使う行列には関数が用意されています。"
      ]
    },
    {
      "cell_type": "markdown",
      "metadata": {
        "id": "-cjr6rRT9WKS"
      },
      "source": [
        "ゼロで埋め尽くされた行列"
      ]
    },
    {
      "cell_type": "code",
      "metadata": {
        "id": "PeaDNxa59QvF",
        "outputId": "ff56e2ed-0c6b-431b-a0a4-55ea0adccfff",
        "colab": {
          "base_uri": "https://localhost:8080/",
          "height": 68
        }
      },
      "source": [
        "a = np.zeros((3, 3))\n",
        "\n",
        "a"
      ],
      "execution_count": 76,
      "outputs": [
        {
          "output_type": "execute_result",
          "data": {
            "text/plain": [
              "array([[0., 0., 0.],\n",
              "       [0., 0., 0.],\n",
              "       [0., 0., 0.]])"
            ]
          },
          "metadata": {
            "tags": []
          },
          "execution_count": 76
        }
      ]
    },
    {
      "cell_type": "markdown",
      "metadata": {
        "id": "ziLoPHib9bIV"
      },
      "source": [
        "1で埋められた行列"
      ]
    },
    {
      "cell_type": "code",
      "metadata": {
        "id": "bNGb24Xk9e_T",
        "outputId": "26212df3-dc83-4a0a-b4c9-3f8b60144350",
        "colab": {
          "base_uri": "https://localhost:8080/",
          "height": 51
        }
      },
      "source": [
        "b = np.ones((2, 3))\n",
        "\n",
        "b"
      ],
      "execution_count": 77,
      "outputs": [
        {
          "output_type": "execute_result",
          "data": {
            "text/plain": [
              "array([[1., 1., 1.],\n",
              "       [1., 1., 1.]])"
            ]
          },
          "metadata": {
            "tags": []
          },
          "execution_count": 77
        }
      ]
    },
    {
      "cell_type": "markdown",
      "metadata": {
        "id": "QjNuQQal9kv5"
      },
      "source": [
        "単位行列"
      ]
    },
    {
      "cell_type": "code",
      "metadata": {
        "id": "fpUW1Zq39y-U",
        "outputId": "a2f74e6f-523f-455f-c1d9-8fe8bff3bd92",
        "colab": {
          "base_uri": "https://localhost:8080/",
          "height": 102
        }
      },
      "source": [
        "c = np.eye(5)\n",
        "\n",
        "c"
      ],
      "execution_count": 78,
      "outputs": [
        {
          "output_type": "execute_result",
          "data": {
            "text/plain": [
              "array([[1., 0., 0., 0., 0.],\n",
              "       [0., 1., 0., 0., 0.],\n",
              "       [0., 0., 1., 0., 0.],\n",
              "       [0., 0., 0., 1., 0.],\n",
              "       [0., 0., 0., 0., 1.]])"
            ]
          },
          "metadata": {
            "tags": []
          },
          "execution_count": 78
        }
      ]
    },
    {
      "cell_type": "markdown",
      "metadata": {
        "id": "K_Lz1gyt93mp"
      },
      "source": [
        "ある値で埋められた行列"
      ]
    },
    {
      "cell_type": "code",
      "metadata": {
        "id": "Kr40ytRi97fG",
        "outputId": "a93d214e-2e65-4262-bfe9-2d8b82f05fba",
        "colab": {
          "base_uri": "https://localhost:8080/",
          "height": 68
        }
      },
      "source": [
        "d = np.full((3, 2), 9)\n",
        "\n",
        "d"
      ],
      "execution_count": 79,
      "outputs": [
        {
          "output_type": "execute_result",
          "data": {
            "text/plain": [
              "array([[9, 9],\n",
              "       [9, 9],\n",
              "       [9, 9]])"
            ]
          },
          "metadata": {
            "tags": []
          },
          "execution_count": 79
        }
      ]
    },
    {
      "cell_type": "markdown",
      "metadata": {
        "id": "wdppACT_-LUU"
      },
      "source": [
        "0から1までの間の乱数で埋められた行列"
      ]
    },
    {
      "cell_type": "code",
      "metadata": {
        "id": "nM2w4uqQ-MXC",
        "outputId": "ddeb2eda-b9ed-4563-d1cb-b510e8b0af2e",
        "colab": {
          "base_uri": "https://localhost:8080/",
          "height": 85
        }
      },
      "source": [
        "e = np.random.random((4, 5))\n",
        "\n",
        "e"
      ],
      "execution_count": 80,
      "outputs": [
        {
          "output_type": "execute_result",
          "data": {
            "text/plain": [
              "array([[0.15293084, 0.40350787, 0.2114852 , 0.81262352, 0.59968265],\n",
              "       [0.21577373, 0.9881673 , 0.98967392, 0.03357643, 0.17226175],\n",
              "       [0.9426618 , 0.67736222, 0.45919569, 0.45531789, 0.383248  ],\n",
              "       [0.4946856 , 0.32808266, 0.69742629, 0.84980674, 0.52406096]])"
            ]
          },
          "metadata": {
            "tags": []
          },
          "execution_count": 80
        }
      ]
    },
    {
      "cell_type": "markdown",
      "metadata": {
        "id": "-j4KYh4vAZUT"
      },
      "source": [
        "行列計算を得意とするライブラリなので単純な四則演算だけでなく\n",
        "\n",
        "ドット積(http://w3e.kanazawa-it.ac.jp/math/category/gyouretu/henkan-tex.cgi?target=/math/category/gyouretu/gyouretu-no-seki.html)\n",
        "\n",
        "逆行列(https://www.geisya.or.jp/~mwm48961/electro/inv_matrix1.htm)\n",
        "\n",
        "などを求める関数もあります。"
      ]
    },
    {
      "cell_type": "markdown",
      "metadata": {
        "id": "Zm4pDh5odRIH"
      },
      "source": [
        "# **SciPyとは**\n",
        "\n",
        "統計などの高度な数学的計算を簡単に実行することができる拡張機能です。NumPyをもとに作られました。"
      ]
    },
    {
      "cell_type": "markdown",
      "metadata": {
        "id": "m6uVPNlfCbtH"
      },
      "source": [
        "**SciPyを使う準備**\n",
        "\n",
        "SciPyは機能が豊富なので使いたい機能だけインポートします。\n",
        "\n",
        "今回は確率密度関数など統計計算用モジュールのstatsを読み込みます。\n",
        "\n",
        "SciPyに使用にはNumPyを前提としているので一緒にインポートしましょう。"
      ]
    },
    {
      "cell_type": "code",
      "metadata": {
        "id": "cM80wZ0HNy0H"
      },
      "source": [
        "import numpy as np\n",
        "from scipy import stats"
      ],
      "execution_count": 81,
      "outputs": []
    },
    {
      "cell_type": "markdown",
      "metadata": {
        "id": "LmFj6vRWB4ok"
      },
      "source": [
        "確率分布の値を得るにあたって、いくつかの関数が実装されています。よく使うもの\n",
        "は、確率密度関数の値を得るpdf(Probability Density Function)と累積分布関数の値を得るcdf(Cumulative Distribution Function)などが挙げられるかと思います。また、mean(平均)、std(標準偏差)、var(分散)などもあります。"
      ]
    },
    {
      "cell_type": "code",
      "metadata": {
        "id": "tj_iZspwO4m1",
        "outputId": "95de828b-ba3c-404e-d669-8a3c3b9b4c44",
        "colab": {
          "base_uri": "https://localhost:8080/",
          "height": 68
        }
      },
      "source": [
        "print(norm.pdf(0)) #正規分布においてx=0の値を返す\n",
        "print(norm.cdf(0)) #正規分布の累積分布関数においてx=0の値\n",
        "print(norm.mean(), norm.std(), norm.var())"
      ],
      "execution_count": 82,
      "outputs": [
        {
          "output_type": "stream",
          "text": [
            "0.3989422804014327\n",
            "0.5\n",
            "0.0 1.0 1.0\n"
          ],
          "name": "stdout"
        }
      ]
    },
    {
      "cell_type": "markdown",
      "metadata": {
        "id": "a4TCHlmbRKGO"
      },
      "source": [
        "確率分布のプロットも後で説明するmatplotlibと組み合わせることで簡単に実行できます。"
      ]
    },
    {
      "cell_type": "code",
      "metadata": {
        "id": "lUxWNUpNQ4xt",
        "outputId": "b8165bff-7a30-40fe-b947-af1245c92fa5",
        "colab": {
          "base_uri": "https://localhost:8080/",
          "height": 282
        }
      },
      "source": [
        "a = 1.5\n",
        "b = 2.0\n",
        "x = np.linspace(0,1,1000)\n",
        "plt.plot(x, beta.pdf(x,a,b))"
      ],
      "execution_count": 83,
      "outputs": [
        {
          "output_type": "execute_result",
          "data": {
            "text/plain": [
              "[<matplotlib.lines.Line2D at 0x7efe83e95128>]"
            ]
          },
          "metadata": {
            "tags": []
          },
          "execution_count": 83
        },
        {
          "output_type": "display_data",
          "data": {
            "image/png": "[encoded data removed]",
            "text/plain": [
              "<Figure size 432x288 with 1 Axes>"
            ]
          },
          "metadata": {
            "tags": [],
            "needs_background": "light"
          }
        }
      ]
    },
    {
      "cell_type": "markdown",
      "metadata": {
        "id": "y5Fem57-PKve"
      },
      "source": [
        "科学計算に関することは大体できます。今回1回では説明しきれないので今後出てくることがあればその都度説明しようと思います。"
      ]
    },
    {
      "cell_type": "markdown",
      "metadata": {
        "id": "Xdx22OLedv1B"
      },
      "source": [
        "# **matplotlibとは**\n",
        "\n",
        "様々な種類のグラフを描画したり、イメージを表示したりすることができるようになる拡張機能です。"
      ]
    },
    {
      "cell_type": "markdown",
      "metadata": {
        "id": "4Vf5_pb7RdwR"
      },
      "source": [
        "**matplotlibを使う準備**\n",
        "\n",
        "グラフの描画を行う際は Matplotlib が便利です。 Matplotlib は matplotlib.pyplot を plt という別名をつけて読み込むのが一般的です。"
      ]
    },
    {
      "cell_type": "code",
      "metadata": {
        "id": "a38ELU2WSKtD"
      },
      "source": [
        "\n",
        "%matplotlib inline\n",
        "import matplotlib.pyplot as plt"
      ],
      "execution_count": 84,
      "outputs": []
    },
    {
      "cell_type": "markdown",
      "metadata": {
        "id": "WIqWxXfCX2vc"
      },
      "source": [
        "**散布図**\n",
        "\n",
        "Matplotlib では与えられた配列から散布図を作成する `plt.scatter()` が用意されています。\n",
        "NumPyで乱数を発生させてプロットしてみましょう。"
      ]
    },
    {
      "cell_type": "code",
      "metadata": {
        "id": "aQDuZ4z3X2M4",
        "outputId": "99b6a85b-56da-4948-fc61-ac8100156967",
        "colab": {
          "base_uri": "https://localhost:8080/",
          "height": 282
        }
      },
      "source": [
        "x = np.random.random(10)\n",
        "y = np.random.random(10)\n",
        "plt.scatter(x, y)"
      ],
      "execution_count": 85,
      "outputs": [
        {
          "output_type": "execute_result",
          "data": {
            "text/plain": [
              "<matplotlib.collections.PathCollection at 0x7efe7b561208>"
            ]
          },
          "metadata": {
            "tags": []
          },
          "execution_count": 85
        },
        {
          "output_type": "display_data",
          "data": {
            "image/png": "[encoded data removed]",
            "text/plain": [
              "<Figure size 432x288 with 1 Axes>"
            ]
          },
          "metadata": {
            "tags": [],
            "needs_background": "light"
          }
        }
      ]
    },
    {
      "cell_type": "markdown",
      "metadata": {
        "id": "Kz1AD8kfZn3v"
      },
      "source": [
        "**ヒストグラム**\n",
        "\n",
        "試しに、NumPyでアレイを作ってヒストグラムを描画してみましょう。"
      ]
    },
    {
      "cell_type": "code",
      "metadata": {
        "id": "d9c8c4L8ZO-v",
        "outputId": "03f69794-dad5-4cf0-910e-ed6fe5f376ab",
        "colab": {
          "base_uri": "https://localhost:8080/",
          "height": 350
        }
      },
      "source": [
        "hist_x = np.random.random(100)\n",
        "plt.hist(hist_x)"
      ],
      "execution_count": 86,
      "outputs": [
        {
          "output_type": "execute_result",
          "data": {
            "text/plain": [
              "(array([14., 11., 11., 13., 10.,  6.,  7., 10., 11.,  7.]),\n",
              " array([5.13183845e-04, 1.00076669e-01, 1.99640155e-01, 2.99203640e-01,\n",
              "        3.98767126e-01, 4.98330612e-01, 5.97894097e-01, 6.97457583e-01,\n",
              "        7.97021068e-01, 8.96584554e-01, 9.96148039e-01]),\n",
              " <a list of 10 Patch objects>)"
            ]
          },
          "metadata": {
            "tags": []
          },
          "execution_count": 86
        },
        {
          "output_type": "display_data",
          "data": {
            "image/png": "[encoded data removed]",
            "text/plain": [
              "<Figure size 432x288 with 1 Axes>"
            ]
          },
          "metadata": {
            "tags": [],
            "needs_background": "light"
          }
        }
      ]
    },
    {
      "cell_type": "markdown",
      "metadata": {
        "id": "6gAqjl-jaaqN"
      },
      "source": [
        "**箱ひげ図**\n",
        "\n",
        "描画には、`plt.boxplot()` を用います。"
      ]
    },
    {
      "cell_type": "code",
      "metadata": {
        "id": "ISN3PwH5aHpm",
        "outputId": "fac756a9-fe1a-450f-8440-1a9455696129",
        "colab": {
          "base_uri": "https://localhost:8080/",
          "height": 520
        }
      },
      "source": [
        "box_x1 = np.random.random(100)\n",
        "box_x2 = np.random.random(100)\n",
        "plt.boxplot((box_x1,box_x2))"
      ],
      "execution_count": 87,
      "outputs": [
        {
          "output_type": "execute_result",
          "data": {
            "text/plain": [
              "{'boxes': [<matplotlib.lines.Line2D at 0x7efe7b4c1e10>,\n",
              "  <matplotlib.lines.Line2D at 0x7efe7b45a668>],\n",
              " 'caps': [<matplotlib.lines.Line2D at 0x7efe7b4d1860>,\n",
              "  <matplotlib.lines.Line2D at 0x7efe7b4d1be0>,\n",
              "  <matplotlib.lines.Line2D at 0x7efe7b468160>,\n",
              "  <matplotlib.lines.Line2D at 0x7efe7b4684e0>],\n",
              " 'fliers': [<matplotlib.lines.Line2D at 0x7efe7b45a320>,\n",
              "  <matplotlib.lines.Line2D at 0x7efe7b468be0>],\n",
              " 'means': [],\n",
              " 'medians': [<matplotlib.lines.Line2D at 0x7efe7b4d1f60>,\n",
              "  <matplotlib.lines.Line2D at 0x7efe7b468860>],\n",
              " 'whiskers': [<matplotlib.lines.Line2D at 0x7efe7b4d1160>,\n",
              "  <matplotlib.lines.Line2D at 0x7efe7b4d14e0>,\n",
              "  <matplotlib.lines.Line2D at 0x7efe7b45aa20>,\n",
              "  <matplotlib.lines.Line2D at 0x7efe7b45ada0>]}"
            ]
          },
          "metadata": {
            "tags": []
          },
          "execution_count": 87
        },
        {
          "output_type": "display_data",
          "data": {
            "image/png": "[encoded data removed]",
            "text/plain": [
              "<Figure size 432x288 with 1 Axes>"
            ]
          },
          "metadata": {
            "tags": [],
            "needs_background": "light"
          }
        }
      ]
    },
    {
      "cell_type": "markdown",
      "metadata": {
        "id": "xOI0kds4bsoh"
      },
      "source": [
        "**折れ線グラフ**\n",
        "\n",
        "折れ線グラフは、時系列データなどを表示する際に便利なグラフです。\n",
        "`plt.plot()` を用いて描画します。\n",
        "\n",
        "それでは、NumPy を用いて作成したデータを、`plt.plot()` で表示してみましょう。"
      ]
    },
    {
      "cell_type": "code",
      "metadata": {
        "id": "KesM77f4anEX",
        "outputId": "9e6d23e9-403d-4380-9920-a2077460d08d",
        "colab": {
          "base_uri": "https://localhost:8080/",
          "height": 282
        }
      },
      "source": [
        "lin_x = np.linspace(0,1,100)\n",
        "y = lin_x + np.random.random(100)\n",
        "plt.plot(y)"
      ],
      "execution_count": 88,
      "outputs": [
        {
          "output_type": "execute_result",
          "data": {
            "text/plain": [
              "[<matplotlib.lines.Line2D at 0x7efe7b43efd0>]"
            ]
          },
          "metadata": {
            "tags": []
          },
          "execution_count": 88
        },
        {
          "output_type": "display_data",
          "data": {
            "image/png": "[encoded data removed]",
            "text/plain": [
              "<Figure size 432x288 with 1 Axes>"
            ]
          },
          "metadata": {
            "tags": [],
            "needs_background": "light"
          }
        }
      ]
    },
    {
      "cell_type": "code",
      "metadata": {
        "id": "KI8-A-VFcQaP",
        "outputId": "72c4b072-2850-438b-be1a-91713cc3da1f",
        "colab": {
          "base_uri": "https://localhost:8080/",
          "height": 282
        }
      },
      "source": [
        "plt.plot(lin_x, y)"
      ],
      "execution_count": 89,
      "outputs": [
        {
          "output_type": "execute_result",
          "data": {
            "text/plain": [
              "[<matplotlib.lines.Line2D at 0x7efe7b3a6f28>]"
            ]
          },
          "metadata": {
            "tags": []
          },
          "execution_count": 89
        },
        {
          "output_type": "display_data",
          "data": {
            "image/png": "[encoded data removed]",
            "text/plain": [
              "<Figure size 432x288 with 1 Axes>"
            ]
          },
          "metadata": {
            "tags": [],
            "needs_background": "light"
          }
        }
      ]
    },
    {
      "cell_type": "markdown",
      "metadata": {
        "id": "PM0wmZkuIurl"
      },
      "source": [
        "棄却サンプリング（事後分布に対するモンテカルロ法）"
      ]
    },
    {
      "cell_type": "markdown",
      "metadata": {
        "id": "eFC9FJb2ezLG"
      },
      "source": [
        "# **棄却サンプリングとは**\n",
        "\n",
        "棄却サンプリングとは確率分布に対するモンテカルロ法です。\n",
        "基本的には円周率の近似値を計算した前回のモンテカルロ法と考え方は変わりません。\n",
        "コードを実行しながら理解していきましょう。"
      ]
    },
    {
      "cell_type": "markdown",
      "metadata": {
        "id": "fSBslQ87g5fK"
      },
      "source": [
        "**棄却サンプリングの対象**\n",
        "\n",
        "ベータ分布と標準正規分布を推定していきます。推定の対象となる分布f()を目標分布、乱数を発生させる一様分布g()を提案分布といいます。\n",
        "\n",
        "目標分布の最大値にピッタリ張り付くような提案分布を用意し、提案分布から乱数を発生させます。目標分布に入っていれば採択、入っていなければ棄却します。"
      ]
    },
    {
      "cell_type": "markdown",
      "metadata": {
        "id": "VACQsVWifyKZ"
      },
      "source": [
        "**棄却サンプリングの流れ**\n",
        "\n",
        "\n",
        "\n",
        "1.  提案分布から乱数を発生させる\n",
        "2.   発生させた乱数が目標分布に入っていればカウントする\n",
        "3.  1と2を指定の回数繰り返す\n",
        "\n"
      ]
    },
    {
      "cell_type": "markdown",
      "metadata": {
        "id": "tGWVEpPDiql9"
      },
      "source": [
        "**必要なライブラリのインポート**"
      ]
    },
    {
      "cell_type": "code",
      "metadata": {
        "id": "ztg4OYNwHakJ"
      },
      "source": [
        "import numpy as np\n",
        "from scipy import stats\n",
        "from scipy import optimize as opt\n",
        "from scipy.stats import beta, uniform, norm\n",
        "import matplotlib.pyplot as plt\n",
        "import math\n",
        "%matplotlib inline"
      ],
      "execution_count": 90,
      "outputs": []
    },
    {
      "cell_type": "code",
      "metadata": {
        "id": "4P_5Eu29JeQU"
      },
      "source": [
        "plt.style.use(\"ggplot\")\n",
        "np.random.seed(123)"
      ],
      "execution_count": 91,
      "outputs": []
    },
    {
      "cell_type": "markdown",
      "metadata": {
        "id": "CD_v_P_fiwXT"
      },
      "source": [
        "**対象となるベータ分布**"
      ]
    },
    {
      "cell_type": "code",
      "metadata": {
        "id": "GIWzkG7AJs7B",
        "outputId": "24e3f2c5-2b9c-4321-aca9-105b63a0712c",
        "colab": {
          "base_uri": "https://localhost:8080/",
          "height": 282
        }
      },
      "source": [
        "a = 1.5\n",
        "b = 2.0\n",
        "x = np.linspace(0,1,1000) #分布を描く範囲を決めます\n",
        "plt.plot(x, beta.pdf(x,a,b))"
      ],
      "execution_count": 104,
      "outputs": [
        {
          "output_type": "execute_result",
          "data": {
            "text/plain": [
              "[<matplotlib.lines.Line2D at 0x7efe7af5d7b8>]"
            ]
          },
          "metadata": {
            "tags": []
          },
          "execution_count": 104
        },
        {
          "output_type": "display_data",
          "data": {
            "image/png": "[encoded data removed]",
            "text/plain": [
              "<Figure size 432x288 with 1 Axes>"
            ]
          },
          "metadata": {
            "tags": []
          }
        }
      ]
    },
    {
      "cell_type": "markdown",
      "metadata": {
        "id": "pAnTAciajNra"
      },
      "source": [
        "**提案分布作成のために目標分布の最大値を算出**"
      ]
    },
    {
      "cell_type": "code",
      "metadata": {
        "id": "r8k0rZ4pLq0B",
        "outputId": "a297fa41-c67f-4091-88e4-9d8c04c44a59",
        "colab": {
          "base_uri": "https://localhost:8080/",
          "height": 85
        }
      },
      "source": [
        "x = np.linspace(0,1,1000) #分布を描く範囲（x軸）\n",
        "f = beta(a=a, b=b).pdf #ベータ分布を数式のまま変数に代入\n",
        "res = opt.fmin(lambda x: -f(x), 0.3) #数式の最大値を取るxをopt関数で算出。\n",
        "y_max = f(res)"
      ],
      "execution_count": 106,
      "outputs": [
        {
          "output_type": "stream",
          "text": [
            "Optimization terminated successfully.\n",
            "         Current function value: -1.443376\n",
            "         Iterations: 10\n",
            "         Function evaluations: 20\n"
          ],
          "name": "stdout"
        }
      ]
    },
    {
      "cell_type": "code",
      "metadata": {
        "id": "QRM__r4TNf4a",
        "outputId": "69ae2a1d-fbb5-4197-c9b9-702f1b58e8ca",
        "colab": {
          "base_uri": "https://localhost:8080/",
          "height": 34
        }
      },
      "source": [
        "y_max"
      ],
      "execution_count": 107,
      "outputs": [
        {
          "output_type": "execute_result",
          "data": {
            "text/plain": [
              "array([1.44337567])"
            ]
          },
          "metadata": {
            "tags": []
          },
          "execution_count": 107
        }
      ]
    },
    {
      "cell_type": "markdown",
      "metadata": {
        "id": "XDhU5XsVjkCa"
      },
      "source": [
        "今回使う一様分布"
      ]
    },
    {
      "cell_type": "code",
      "metadata": {
        "id": "Kw6J7XDiyI-q",
        "outputId": "69555761-0f3d-470f-c9af-344417e080f2",
        "colab": {
          "base_uri": "https://localhost:8080/",
          "height": 282
        }
      },
      "source": [
        "x = np.linspace(-1,2,1000)\n",
        "plt.plot(x, uniform.pdf(x,loc =0,scale=1))"
      ],
      "execution_count": 108,
      "outputs": [
        {
          "output_type": "execute_result",
          "data": {
            "text/plain": [
              "[<matplotlib.lines.Line2D at 0x7efe7af4dfd0>]"
            ]
          },
          "metadata": {
            "tags": []
          },
          "execution_count": 108
        },
        {
          "output_type": "display_data",
          "data": {
            "image/png": "[encoded data removed]",
            "text/plain": [
              "<Figure size 432x288 with 1 Axes>"
            ]
          },
          "metadata": {
            "tags": []
          }
        }
      ]
    },
    {
      "cell_type": "markdown",
      "metadata": {
        "id": "ZIpZidwujoY0"
      },
      "source": [
        "**ベータ分布に対する棄却サンプリング**"
      ]
    },
    {
      "cell_type": "code",
      "metadata": {
        "id": "HF2GbGs_Nrs0",
        "outputId": "85b96e87-a911-479e-a307-30d995e38be0",
        "colab": {
          "base_uri": "https://localhost:8080/",
          "height": 286
        }
      },
      "source": [
        "f = beta(a=a, b=b).pdf #数式のまま変数に代入\n",
        "N = 5000          #サンプリングする回数\n",
        "x_mc = uniform.rvs(size = N) #一様分布からN個サンプリング\n",
        "r = uniform.rvs(size = N) * y_max #y_max倍することで一様分布を目標分布にピッタリ合うようにする\n",
        "accept = x_mc[ r <= f(x_mc)]\n",
        "plt.hist(accept, density = True, bins = 30,rwidth = 0.8)\n",
        "a = 1.5\n",
        "b = 2.0\n",
        "x = np.linspace(0,1,1000)\n",
        "plt.plot(x, beta.pdf(x,a,b))"
      ],
      "execution_count": 109,
      "outputs": [
        {
          "output_type": "execute_result",
          "data": {
            "text/plain": [
              "[<matplotlib.lines.Line2D at 0x7efe7aeb0160>]"
            ]
          },
          "metadata": {
            "tags": []
          },
          "execution_count": 109
        },
        {
          "output_type": "display_data",
          "data": {
            "image/png": "[encoded data removed]",
            "text/plain": [
              "<Figure size 432x288 with 1 Axes>"
            ]
          },
          "metadata": {
            "tags": []
          }
        }
      ]
    },
    {
      "cell_type": "markdown",
      "metadata": {
        "id": "hM39RVRPj0zb"
      },
      "source": [
        "**標準正規分布の棄却サンプリング**"
      ]
    },
    {
      "cell_type": "code",
      "metadata": {
        "id": "SiXt_Fy4ZJA9",
        "outputId": "d68e1181-b6c3-4751-b5d2-4d4d07bd387a",
        "colab": {
          "base_uri": "https://localhost:8080/",
          "height": 85
        }
      },
      "source": [
        "f = norm(loc = 0,scale = 1).pdf\n",
        "res = opt.fmin(lambda x: -f(x), -3)\n",
        "y_max = f(res)"
      ],
      "execution_count": 110,
      "outputs": [
        {
          "output_type": "stream",
          "text": [
            "Optimization terminated successfully.\n",
            "         Current function value: -0.398942\n",
            "         Iterations: 19\n",
            "         Function evaluations: 38\n"
          ],
          "name": "stdout"
        }
      ]
    },
    {
      "cell_type": "code",
      "metadata": {
        "id": "Md3ThJ4IpHxR",
        "outputId": "835fcee6-2b10-441e-92ce-348cbbafc6a2",
        "colab": {
          "base_uri": "https://localhost:8080/",
          "height": 34
        }
      },
      "source": [
        "y_max"
      ],
      "execution_count": 111,
      "outputs": [
        {
          "output_type": "execute_result",
          "data": {
            "text/plain": [
              "array([0.39894228])"
            ]
          },
          "metadata": {
            "tags": []
          },
          "execution_count": 111
        }
      ]
    },
    {
      "cell_type": "code",
      "metadata": {
        "id": "DZ31MjqKpw1d",
        "outputId": "ede35499-b7e3-42de-b95c-ab2adcdd366b",
        "colab": {
          "base_uri": "https://localhost:8080/",
          "height": 282
        }
      },
      "source": [
        "x = np.linspace(0,10,1000)\n",
        "plt.plot(x, uniform.pdf(x,loc =0,scale=10))"
      ],
      "execution_count": 112,
      "outputs": [
        {
          "output_type": "execute_result",
          "data": {
            "text/plain": [
              "[<matplotlib.lines.Line2D at 0x7efe7adff080>]"
            ]
          },
          "metadata": {
            "tags": []
          },
          "execution_count": 112
        },
        {
          "output_type": "display_data",
          "data": {
            "image/png": "[encoded data removed]",
            "text/plain": [
              "<Figure size 432x288 with 1 Axes>"
            ]
          },
          "metadata": {
            "tags": []
          }
        }
      ]
    },
    {
      "cell_type": "code",
      "metadata": {
        "id": "Kuy4OmE5pXqi",
        "outputId": "668579df-4caa-494d-9967-5b57b07af591",
        "colab": {
          "base_uri": "https://localhost:8080/",
          "height": 282
        }
      },
      "source": [
        "f = norm(loc = 5,scale = 1).pdf\n",
        "N = 1000000\n",
        "x_mc = uniform.rvs(loc =0,scale=10,size = N)\n",
        "r = uniform.rvs(loc =0,scale=10,size = N) * y_max\n",
        "accept = x_mc[ r <= f(x_mc)]\n",
        "plt.hist(accept, density = True, bins = 100,rwidth = 0.5)\n",
        "x = np.linspace(0,10,1000)\n",
        "plt.plot(x, norm.pdf(x=x,loc=5,scale=1))"
      ],
      "execution_count": 113,
      "outputs": [
        {
          "output_type": "execute_result",
          "data": {
            "text/plain": [
              "[<matplotlib.lines.Line2D at 0x7efe7adca748>]"
            ]
          },
          "metadata": {
            "tags": []
          },
          "execution_count": 113
        },
        {
          "output_type": "display_data",
          "data": {
            "image/png": "[encoded data removed]",
            "text/plain": [
              "<Figure size 432x288 with 1 Axes>"
            ]
          },
          "metadata": {
            "tags": []
          }
        }
      ]
    }
  ]
}