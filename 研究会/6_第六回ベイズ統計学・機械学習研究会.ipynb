{
  "nbformat": 4,
  "nbformat_minor": 0,
  "metadata": {
    "colab": {
      "name": "6.第六回ベイズ統計学・機械学習研究会.ipynb",
      "provenance": [],
      "collapsed_sections": [],
      "authorship_tag": "ABX9TyO1FO5Yh3nkfoObCUlSdnAH",
      "include_colab_link": true
    },
    "kernelspec": {
      "name": "python3",
      "display_name": "Python 3"
    }
  },
  "cells": [
    {
      "cell_type": "markdown",
      "metadata": {
        "id": "view-in-github",
        "colab_type": "text"
      },
      "source": [
        "<a href=\"https://colab.research.google.com/github/kyoheiii/u-nag_BS-ML-study-group/blob/main/%E7%A0%94%E7%A9%B6%E4%BC%9A/6_%E7%AC%AC%E5%85%AD%E5%9B%9E%E3%83%99%E3%82%A4%E3%82%BA%E7%B5%B1%E8%A8%88%E5%AD%A6%E3%83%BB%E6%A9%9F%E6%A2%B0%E5%AD%A6%E7%BF%92%E7%A0%94%E7%A9%B6%E4%BC%9A.ipynb\" target=\"_parent\"><img src=\"https://colab.research.google.com/assets/colab-badge.svg\" alt=\"Open In Colab\"/></a>"
      ]
    },
    {
      "cell_type": "markdown",
      "metadata": {
        "id": "qUnW9KCmogV4"
      },
      "source": [
        "\n",
        "\n",
        "*   ScipyとNumpy\n",
        "*   matplotlib\n",
        "*   棄却サンプリング\n",
        "\n"
      ]
    },
    {
      "cell_type": "markdown",
      "metadata": {
        "id": "76lAh3Plc7y2"
      },
      "source": [
        "# **NumPyとは**\n",
        "\n",
        "プログラミング言語であるPythonの拡張モジュールです。NumPyを利用することでPythonでの数値計算をより高速に、効率的に行うことができるようになります。"
      ]
    },
    {
      "cell_type": "markdown",
      "metadata": {
        "id": "efs5UVNHqhk6"
      },
      "source": [
        "**NumPy を使う準備**\n",
        "\n",
        "例えば A というモジュールを読み込みたいとき、import A と記述します。 もし A というモジュール名が長い場合は、import A as B のように別名を付けることができます。  import A as B と書くと、A というモジュールは B という名前で利用することができます。 \n",
        "\n",
        "慣習的に、numpy には np という別名が与えられます。 コード中で頻繁に使用するモジュールには、短い別名をつけて定義することがよく行われます。\n",
        "\n",
        "numpy を np という名前で import してみましょう。"
      ]
    },
    {
      "cell_type": "code",
      "metadata": {
        "id": "Gb6E-YEgofFk"
      },
      "source": [
        "import numpy as np"
      ],
      "execution_count": 33,
      "outputs": []
    },
    {
      "cell_type": "markdown",
      "metadata": {
        "id": "qyY34JNL4beo"
      },
      "source": [
        "**多次元配列**\n",
        "\n",
        "NumPy では ndarray というクラスで多次元配列（ベクトルや行列など）を表現します。ベクトルを定義してみましょう。"
      ]
    },
    {
      "cell_type": "code",
      "metadata": {
        "id": "gcIFdgcS6YUR",
        "outputId": "4c28fd34-d0b4-4c92-c0a1-09b7c271d148",
        "colab": {
          "base_uri": "https://localhost:8080/",
          "height": 34
        }
      },
      "source": [
        "a = np.array([2, 3, 4])\n",
        "\n",
        "a"
      ],
      "execution_count": 34,
      "outputs": [
        {
          "output_type": "execute_result",
          "data": {
            "text/plain": [
              "array([2, 3, 4])"
            ]
          },
          "metadata": {
            "tags": []
          },
          "execution_count": 34
        }
      ]
    },
    {
      "cell_type": "markdown",
      "metadata": {
        "id": "rtx19sUU6h0G"
      },
      "source": [
        "shapeを用いての ndarray オブジェクトの形を確認できます。 上で定義した a という ndarray オブジェクトの形を調べてみましょう。"
      ]
    },
    {
      "cell_type": "code",
      "metadata": {
        "id": "iIxQ39ru7O46",
        "outputId": "7641bb00-acf3-41f5-a756-db015519b2c8",
        "colab": {
          "base_uri": "https://localhost:8080/",
          "height": 34
        }
      },
      "source": [
        "a.shape"
      ],
      "execution_count": 36,
      "outputs": [
        {
          "output_type": "execute_result",
          "data": {
            "text/plain": [
              "(3,)"
            ]
          },
          "metadata": {
            "tags": []
          },
          "execution_count": 36
        }
      ]
    },
    {
      "cell_type": "markdown",
      "metadata": {
        "id": "jVfSTo-47VFf"
      },
      "source": [
        "次に、 3×2  行列bを定義してみましょう。"
      ]
    },
    {
      "cell_type": "code",
      "metadata": {
        "id": "OGqtsMMl7qHy",
        "outputId": "6a1dd8dd-fe46-4fc0-9f1b-556eee846c2f",
        "colab": {
          "base_uri": "https://localhost:8080/",
          "height": 68
        }
      },
      "source": [
        "b = np.array([[1,2],\n",
        "              [3,4],\n",
        "              [5,6]])\n",
        "b"
      ],
      "execution_count": 41,
      "outputs": [
        {
          "output_type": "execute_result",
          "data": {
            "text/plain": [
              "array([[1, 2],\n",
              "       [3, 4],\n",
              "       [5, 6]])"
            ]
          },
          "metadata": {
            "tags": []
          },
          "execution_count": 41
        }
      ]
    },
    {
      "cell_type": "markdown",
      "metadata": {
        "id": "bVOucs5i8Czy"
      },
      "source": [
        "bのshapeを確認しましょう。"
      ]
    },
    {
      "cell_type": "code",
      "metadata": {
        "id": "DohSXWKL8XDT",
        "outputId": "d57d9c9a-6128-4e46-9b62-b0beb5348a28",
        "colab": {
          "base_uri": "https://localhost:8080/",
          "height": 34
        }
      },
      "source": [
        "b.shape"
      ],
      "execution_count": 42,
      "outputs": [
        {
          "output_type": "execute_result",
          "data": {
            "text/plain": [
              "(3, 2)"
            ]
          },
          "metadata": {
            "tags": []
          },
          "execution_count": 42
        }
      ]
    },
    {
      "cell_type": "markdown",
      "metadata": {
        "id": "kKxtf-HK8rvP"
      },
      "source": [
        "**特別なndarray**\n",
        "\n",
        "特別な形の行列や、よく使う行列には関数が用意されています。"
      ]
    },
    {
      "cell_type": "markdown",
      "metadata": {
        "id": "-cjr6rRT9WKS"
      },
      "source": [
        "ゼロで埋め尽くされた行列"
      ]
    },
    {
      "cell_type": "code",
      "metadata": {
        "id": "PeaDNxa59QvF",
        "outputId": "313bcf02-740a-4a8e-dddc-6ef5bb3b22b0",
        "colab": {
          "base_uri": "https://localhost:8080/",
          "height": 68
        }
      },
      "source": [
        "a = np.zeros((3, 3))\n",
        "\n",
        "a"
      ],
      "execution_count": 43,
      "outputs": [
        {
          "output_type": "execute_result",
          "data": {
            "text/plain": [
              "array([[0., 0., 0.],\n",
              "       [0., 0., 0.],\n",
              "       [0., 0., 0.]])"
            ]
          },
          "metadata": {
            "tags": []
          },
          "execution_count": 43
        }
      ]
    },
    {
      "cell_type": "markdown",
      "metadata": {
        "id": "ziLoPHib9bIV"
      },
      "source": [
        "1で埋められた行列"
      ]
    },
    {
      "cell_type": "code",
      "metadata": {
        "id": "bNGb24Xk9e_T",
        "outputId": "598262ac-92d0-4f99-beb1-7eea6a683c0f",
        "colab": {
          "base_uri": "https://localhost:8080/",
          "height": 51
        }
      },
      "source": [
        "b = np.ones((2, 3))\n",
        "\n",
        "b"
      ],
      "execution_count": 44,
      "outputs": [
        {
          "output_type": "execute_result",
          "data": {
            "text/plain": [
              "array([[1., 1., 1.],\n",
              "       [1., 1., 1.]])"
            ]
          },
          "metadata": {
            "tags": []
          },
          "execution_count": 44
        }
      ]
    },
    {
      "cell_type": "markdown",
      "metadata": {
        "id": "QjNuQQal9kv5"
      },
      "source": [
        "単位行列"
      ]
    },
    {
      "cell_type": "code",
      "metadata": {
        "id": "fpUW1Zq39y-U",
        "outputId": "0e3082b4-0f88-4b6d-9aab-5377a21c86b2",
        "colab": {
          "base_uri": "https://localhost:8080/",
          "height": 102
        }
      },
      "source": [
        "c = np.eye(5)\n",
        "\n",
        "c"
      ],
      "execution_count": 45,
      "outputs": [
        {
          "output_type": "execute_result",
          "data": {
            "text/plain": [
              "array([[1., 0., 0., 0., 0.],\n",
              "       [0., 1., 0., 0., 0.],\n",
              "       [0., 0., 1., 0., 0.],\n",
              "       [0., 0., 0., 1., 0.],\n",
              "       [0., 0., 0., 0., 1.]])"
            ]
          },
          "metadata": {
            "tags": []
          },
          "execution_count": 45
        }
      ]
    },
    {
      "cell_type": "markdown",
      "metadata": {
        "id": "K_Lz1gyt93mp"
      },
      "source": [
        "ある値で埋められた行列"
      ]
    },
    {
      "cell_type": "code",
      "metadata": {
        "id": "Kr40ytRi97fG",
        "outputId": "b4aff1c4-ded7-4b53-f278-eb50c437252e",
        "colab": {
          "base_uri": "https://localhost:8080/",
          "height": 68
        }
      },
      "source": [
        "d = np.full((3, 2), 9)\n",
        "\n",
        "d"
      ],
      "execution_count": 46,
      "outputs": [
        {
          "output_type": "execute_result",
          "data": {
            "text/plain": [
              "array([[9, 9],\n",
              "       [9, 9],\n",
              "       [9, 9]])"
            ]
          },
          "metadata": {
            "tags": []
          },
          "execution_count": 46
        }
      ]
    },
    {
      "cell_type": "markdown",
      "metadata": {
        "id": "wdppACT_-LUU"
      },
      "source": [
        "0から1までの間の乱数で埋められた行列"
      ]
    },
    {
      "cell_type": "code",
      "metadata": {
        "id": "nM2w4uqQ-MXC",
        "outputId": "14a621b9-812a-4aa6-ef68-fee1cfa4e9c1",
        "colab": {
          "base_uri": "https://localhost:8080/",
          "height": 85
        }
      },
      "source": [
        "e = np.random.random((4, 5))\n",
        "\n",
        "e"
      ],
      "execution_count": 47,
      "outputs": [
        {
          "output_type": "execute_result",
          "data": {
            "text/plain": [
              "array([[0.91742212, 0.2026324 , 0.44007457, 0.56766908, 0.08823099],\n",
              "       [0.74733524, 0.39526503, 0.74748228, 0.79930421, 0.318384  ],\n",
              "       [0.48494509, 0.21568759, 0.37366501, 0.89614931, 0.32603729],\n",
              "       [0.03882673, 0.24476058, 0.20949518, 0.18335439, 0.39699375]])"
            ]
          },
          "metadata": {
            "tags": []
          },
          "execution_count": 47
        }
      ]
    },
    {
      "cell_type": "markdown",
      "metadata": {
        "id": "-j4KYh4vAZUT"
      },
      "source": [
        "行列計算を得意とするライブラリなので単純な四則演算だけでなく\n",
        "\n",
        "ドット積(http://w3e.kanazawa-it.ac.jp/math/category/gyouretu/henkan-tex.cgi?target=/math/category/gyouretu/gyouretu-no-seki.html)\n",
        "\n",
        "逆行列(https://www.geisya.or.jp/~mwm48961/electro/inv_matrix1.htm)\n",
        "\n",
        "などを求める関数もあります。"
      ]
    },
    {
      "cell_type": "markdown",
      "metadata": {
        "id": "Zm4pDh5odRIH"
      },
      "source": [
        "# **SciPyとは**\n",
        "\n",
        "統計などの高度な数学的計算を簡単に実行することができる拡張機能です。NumPyをもとに作られました。"
      ]
    },
    {
      "cell_type": "markdown",
      "metadata": {
        "id": "m6uVPNlfCbtH"
      },
      "source": [
        "**SciPyを使う準備**\n",
        "\n",
        "SciPyは機能が豊富なので使いたい機能だけインポートします。\n",
        "\n",
        "今回は確率密度関数など統計計算用モジュールのstatsを読み込みます。\n",
        "\n",
        "SciPyに使用にはNumPyを前提としているので一緒にインポートしましょう。"
      ]
    },
    {
      "cell_type": "code",
      "metadata": {
        "id": "cM80wZ0HNy0H"
      },
      "source": [
        "import numpy as np\n",
        "from scipy import stats"
      ],
      "execution_count": 48,
      "outputs": []
    },
    {
      "cell_type": "markdown",
      "metadata": {
        "id": "LmFj6vRWB4ok"
      },
      "source": [
        "確率分布の値を得るにあたって、いくつかの関数が実装されています。よく使うもの\n",
        "は、確率密度関数の値を得るpdf(Probability Density Function)と累積分布関数の値を得るcdf(Cumulative Distribution Function)などが挙げられるかと思います。また、mean(平均)、std(標準偏差)、var(分散)などもあります。"
      ]
    },
    {
      "cell_type": "code",
      "metadata": {
        "id": "tj_iZspwO4m1",
        "outputId": "54ab3435-7d80-4c8c-873b-79d962e021a0",
        "colab": {
          "base_uri": "https://localhost:8080/",
          "height": 68
        }
      },
      "source": [
        "print(norm.pdf(0)) #正規分布においてx=0の値を返す\n",
        "print(norm.cdf(0)) #正規分布の累積分布関数においてx=0の値\n",
        "print(norm.mean(), norm.std(), norm.var())"
      ],
      "execution_count": 53,
      "outputs": [
        {
          "output_type": "stream",
          "text": [
            "0.3989422804014327\n",
            "0.5\n",
            "0.0 1.0 1.0\n"
          ],
          "name": "stdout"
        }
      ]
    },
    {
      "cell_type": "markdown",
      "metadata": {
        "id": "a4TCHlmbRKGO"
      },
      "source": [
        "確率分布のプロットも後で説明するmatplotlibと組み合わせることで簡単に実行できます。"
      ]
    },
    {
      "cell_type": "code",
      "metadata": {
        "id": "lUxWNUpNQ4xt",
        "outputId": "284103db-ee31-4f3f-94b0-0a0d6247590f",
        "colab": {
          "base_uri": "https://localhost:8080/",
          "height": 282
        }
      },
      "source": [
        "a = 1.5\n",
        "b = 2.0\n",
        "x = np.linspace(0,1,1000)\n",
        "plt.plot(x, beta.pdf(x,a,b))"
      ],
      "execution_count": 54,
      "outputs": [
        {
          "output_type": "execute_result",
          "data": {
            "text/plain": [
              "[<matplotlib.lines.Line2D at 0x7efe7bda5e48>]"
            ]
          },
          "metadata": {
            "tags": []
          },
          "execution_count": 54
        },
        {
          "output_type": "display_data",
          "data": {
            "image/png": "[encoded data removed]",
            "text/plain": [
              "<Figure size 432x288 with 1 Axes>"
            ]
          },
          "metadata": {
            "tags": []
          }
        }
      ]
    },
    {
      "cell_type": "markdown",
      "metadata": {
        "id": "y5Fem57-PKve"
      },
      "source": [
        "科学計算に関することは大体できます。今回1回では説明しきれないので今後出てくることがあればその都度説明しようと思います。"
      ]
    },
    {
      "cell_type": "markdown",
      "metadata": {
        "id": "Xdx22OLedv1B"
      },
      "source": [
        "# **matplotlibとは**\n",
        "\n",
        "様々な種類のグラフを描画したり、イメージを表示したりすることができるようになる拡張機能です。"
      ]
    },
    {
      "cell_type": "markdown",
      "metadata": {
        "id": "4Vf5_pb7RdwR"
      },
      "source": [
        "**matplotlibを使う準備**\n",
        "\n",
        "グラフの描画を行う際は Matplotlib が便利です。 Matplotlib は matplotlib.pyplot を plt という別名をつけて読み込むのが一般的です。"
      ]
    },
    {
      "cell_type": "code",
      "metadata": {
        "id": "a38ELU2WSKtD"
      },
      "source": [
        "%matplotlib inline\n",
        "import matplotlib.pyplot as plt"
      ],
      "execution_count": 56,
      "outputs": []
    },
    {
      "cell_type": "markdown",
      "metadata": {
        "id": "WIqWxXfCX2vc"
      },
      "source": [
        "**散布図**\n",
        "\n",
        "Matplotlib では与えられた配列から散布図を作成する `plt.scatter()` が用意されています。\n",
        "NumPyで乱数を発生させてプロットしてみましょう。"
      ]
    },
    {
      "cell_type": "code",
      "metadata": {
        "id": "aQDuZ4z3X2M4",
        "outputId": "419b3ac5-b078-463a-92e2-85b4d4646ea3",
        "colab": {
          "base_uri": "https://localhost:8080/",
          "height": 282
        }
      },
      "source": [
        "x = np.random.random(10)\n",
        "y = np.random.random(10)\n",
        "plt.scatter(x, y)"
      ],
      "execution_count": 57,
      "outputs": [
        {
          "output_type": "execute_result",
          "data": {
            "text/plain": [
              "<matplotlib.collections.PathCollection at 0x7efe7bd33da0>"
            ]
          },
          "metadata": {
            "tags": []
          },
          "execution_count": 57
        },
        {
          "output_type": "display_data",
          "data": {
            "image/png": "[encoded data removed]",
            "text/plain": [
              "<Figure size 432x288 with 1 Axes>"
            ]
          },
          "metadata": {
            "tags": [],
            "needs_background": "light"
          }
        }
      ]
    },
    {
      "cell_type": "markdown",
      "metadata": {
        "id": "Kz1AD8kfZn3v"
      },
      "source": [
        "**ヒストグラム**\n",
        "\n",
        "試しに、NumPyでアレイを作ってヒストグラムを描画してみましょう。"
      ]
    },
    {
      "cell_type": "code",
      "metadata": {
        "id": "d9c8c4L8ZO-v",
        "outputId": "7201f8bd-9427-4ebc-cdb2-545b63b781e2",
        "colab": {
          "base_uri": "https://localhost:8080/",
          "height": 350
        }
      },
      "source": [
        "hist_x = np.random.random(100)\n",
        "plt.hist(hist_x)"
      ],
      "execution_count": 61,
      "outputs": [
        {
          "output_type": "execute_result",
          "data": {
            "text/plain": [
              "(array([ 8., 17., 11., 11.,  8.,  8.,  9., 10.,  9.,  9.]),\n",
              " array([0.01552765, 0.11382987, 0.21213209, 0.31043431, 0.40873654,\n",
              "        0.50703876, 0.60534098, 0.7036432 , 0.80194542, 0.90024764,\n",
              "        0.99854986]),\n",
              " <a list of 10 Patch objects>)"
            ]
          },
          "metadata": {
            "tags": []
          },
          "execution_count": 61
        },
        {
          "output_type": "display_data",
          "data": {
            "image/png": "[encoded data removed]",
            "text/plain": [
              "<Figure size 432x288 with 1 Axes>"
            ]
          },
          "metadata": {
            "tags": [],
            "needs_background": "light"
          }
        }
      ]
    },
    {
      "cell_type": "markdown",
      "metadata": {
        "id": "6gAqjl-jaaqN"
      },
      "source": [
        "**箱ひげ図**\n",
        "\n",
        "描画には、`plt.boxplot()` を用います。"
      ]
    },
    {
      "cell_type": "code",
      "metadata": {
        "id": "ISN3PwH5aHpm",
        "outputId": "df6d7182-3876-49a8-8724-7066ea96b3f7",
        "colab": {
          "base_uri": "https://localhost:8080/",
          "height": 520
        }
      },
      "source": [
        "box_x1 = np.random.random(100)\n",
        "box_x2 = np.random.random(100)\n",
        "plt.boxplot((box_x1,box_x2))"
      ],
      "execution_count": 64,
      "outputs": [
        {
          "output_type": "execute_result",
          "data": {
            "text/plain": [
              "{'boxes': [<matplotlib.lines.Line2D at 0x7efe7b9f1828>,\n",
              "  <matplotlib.lines.Line2D at 0x7efe7ba09080>],\n",
              " 'caps': [<matplotlib.lines.Line2D at 0x7efe7b9ff278>,\n",
              "  <matplotlib.lines.Line2D at 0x7efe7b9ff5f8>,\n",
              "  <matplotlib.lines.Line2D at 0x7efe7ba09a90>,\n",
              "  <matplotlib.lines.Line2D at 0x7efe7ba09dd8>],\n",
              " 'fliers': [<matplotlib.lines.Line2D at 0x7efe7b9ffcf8>,\n",
              "  <matplotlib.lines.Line2D at 0x7efe7ba164a8>],\n",
              " 'means': [],\n",
              " 'medians': [<matplotlib.lines.Line2D at 0x7efe7b9ff978>,\n",
              "  <matplotlib.lines.Line2D at 0x7efe7ba16160>],\n",
              " 'whiskers': [<matplotlib.lines.Line2D at 0x7efe7b9f1b38>,\n",
              "  <matplotlib.lines.Line2D at 0x7efe7b9f1eb8>,\n",
              "  <matplotlib.lines.Line2D at 0x7efe7ba09400>,\n",
              "  <matplotlib.lines.Line2D at 0x7efe7ba09748>]}"
            ]
          },
          "metadata": {
            "tags": []
          },
          "execution_count": 64
        },
        {
          "output_type": "display_data",
          "data": {
            "image/png": "[encoded data removed]",
            "text/plain": [
              "<Figure size 432x288 with 1 Axes>"
            ]
          },
          "metadata": {
            "tags": [],
            "needs_background": "light"
          }
        }
      ]
    },
    {
      "cell_type": "markdown",
      "metadata": {
        "id": "xOI0kds4bsoh"
      },
      "source": [
        "**折れ線グラフ**\n",
        "\n",
        "折れ線グラフは、時系列データなどを表示する際に便利なグラフです。\n",
        "`plt.plot()` を用いて描画します。\n",
        "\n",
        "それでは、NumPy を用いて作成したデータを、`plt.plot()` で表示してみましょう。"
      ]
    },
    {
      "cell_type": "code",
      "metadata": {
        "id": "KesM77f4anEX",
        "outputId": "1892b375-1734-49ca-a16d-e2df364d1000",
        "colab": {
          "base_uri": "https://localhost:8080/",
          "height": 282
        }
      },
      "source": [
        "lin_x = np.linspace(0,1,100)\n",
        "y = lin_x + np.random.random(100)\n",
        "plt.plot(y)"
      ],
      "execution_count": 68,
      "outputs": [
        {
          "output_type": "execute_result",
          "data": {
            "text/plain": [
              "[<matplotlib.lines.Line2D at 0x7efe7b70f860>]"
            ]
          },
          "metadata": {
            "tags": []
          },
          "execution_count": 68
        },
        {
          "output_type": "display_data",
          "data": {
            "image/png": "[encoded data removed]",
            "text/plain": [
              "<Figure size 432x288 with 1 Axes>"
            ]
          },
          "metadata": {
            "tags": [],
            "needs_background": "light"
          }
        }
      ]
    },
    {
      "cell_type": "code",
      "metadata": {
        "id": "KI8-A-VFcQaP",
        "outputId": "3e7e0586-1ac1-4463-b3e4-64e310bc7f2d",
        "colab": {
          "base_uri": "https://localhost:8080/",
          "height": 282
        }
      },
      "source": [
        "plt.plot(lin_x, y)"
      ],
      "execution_count": 69,
      "outputs": [
        {
          "output_type": "execute_result",
          "data": {
            "text/plain": [
              "[<matplotlib.lines.Line2D at 0x7efe7b66dd30>]"
            ]
          },
          "metadata": {
            "tags": []
          },
          "execution_count": 69
        },
        {
          "output_type": "display_data",
          "data": {
            "image/png": "[encoded data removed]",
            "text/plain": [
              "<Figure size 432x288 with 1 Axes>"
            ]
          },
          "metadata": {
            "tags": [],
            "needs_background": "light"
          }
        }
      ]
    },
    {
      "cell_type": "markdown",
      "metadata": {
        "id": "PM0wmZkuIurl"
      },
      "source": [
        "棄却サンプリング（事後分布に対するモンテカルロ法）"
      ]
    },
    {
      "cell_type": "markdown",
      "metadata": {
        "id": "eFC9FJb2ezLG"
      },
      "source": [
        "# **棄却サンプリングとは**\n",
        "\n",
        "棄却サンプリングとは確率分布に対するモンテカルロ法です。\n",
        "基本的には円周率の近似値を計算した前回のモンテカルロ法と考え方は変わりません。\n",
        "コードを実行しながら理解していきましょう。"
      ]
    },
    {
      "cell_type": "markdown",
      "metadata": {
        "id": "fSBslQ87g5fK"
      },
      "source": [
        "**棄却サンプリングの対象**\n",
        "\n",
        "ベータ分布と標準正規分布を推定していきます。推定の対象となる分布f()を目標分布、乱数を発生させる一様分布g()を提案分布といいます。\n",
        "\n",
        "目標分布の最大値にピッタリ張り付くような提案分布を用意し、提案分布から乱数を発生させます。目標分布に入っていれば採択、入っていなければ棄却します。"
      ]
    },
    {
      "cell_type": "markdown",
      "metadata": {
        "id": "VACQsVWifyKZ"
      },
      "source": [
        "**棄却サンプリングの流れ**\n",
        "\n",
        "\n",
        "\n",
        "1.  提案分布から乱数を発生させる\n",
        "2.   発生させた乱数が目標分布に入っていればカウントする\n",
        "3.  1と2を指定の回数繰り返す\n",
        "\n"
      ]
    },
    {
      "cell_type": "markdown",
      "metadata": {
        "id": "tGWVEpPDiql9"
      },
      "source": [
        "**必要なライブラリのインポート**"
      ]
    },
    {
      "cell_type": "code",
      "metadata": {
        "id": "ztg4OYNwHakJ"
      },
      "source": [
        "import numpy as np\n",
        "from scipy import stats\n",
        "from scipy import optimize as opt\n",
        "from scipy.stats import beta, uniform, norm\n",
        "import matplotlib.pyplot as plt\n",
        "import math\n",
        "%matplotlib inline"
      ],
      "execution_count": 22,
      "outputs": []
    },
    {
      "cell_type": "code",
      "metadata": {
        "id": "4P_5Eu29JeQU"
      },
      "source": [
        "plt.style.use(\"ggplot\")\n",
        "np.random.seed(123)"
      ],
      "execution_count": 23,
      "outputs": []
    },
    {
      "cell_type": "markdown",
      "metadata": {
        "id": "CD_v_P_fiwXT"
      },
      "source": [
        "**対象となるベータ分布**"
      ]
    },
    {
      "cell_type": "code",
      "metadata": {
        "id": "GIWzkG7AJs7B",
        "outputId": "112b0343-1c36-4450-a627-75e749e0b9fc",
        "colab": {
          "base_uri": "https://localhost:8080/",
          "height": 282
        }
      },
      "source": [
        "a = 1.5\n",
        "b = 2.0\n",
        "x = np.linspace(0,1,1000)　#分布を描く範囲を決めます\n",
        "plt.plot(x, beta.pdf(x,a,b))"
      ],
      "execution_count": 24,
      "outputs": [
        {
          "output_type": "execute_result",
          "data": {
            "text/plain": [
              "[<matplotlib.lines.Line2D at 0x7efe84138cf8>]"
            ]
          },
          "metadata": {
            "tags": []
          },
          "execution_count": 24
        },
        {
          "output_type": "display_data",
          "data": {
            "image/png": "[encoded data removed]",
            "text/plain": [
              "<Figure size 432x288 with 1 Axes>"
            ]
          },
          "metadata": {
            "tags": []
          }
        }
      ]
    },
    {
      "cell_type": "markdown",
      "metadata": {
        "id": "pAnTAciajNra"
      },
      "source": [
        "**提案分布作成のために目標分布の最大値を算出**"
      ]
    },
    {
      "cell_type": "code",
      "metadata": {
        "id": "r8k0rZ4pLq0B",
        "outputId": "ae20d5b8-02cd-49b0-c36b-9a8bdbe20f4a",
        "colab": {
          "base_uri": "https://localhost:8080/",
          "height": 85
        }
      },
      "source": [
        "x = np.linspace(0,1,1000) #分布を描く範囲（x軸）\n",
        "f = beta(a=a, b=b).pdf　#ベータ分布を数式のまま変数に代入\n",
        "res = opt.fmin(lambda x: -f(x), 0.3)　#数式の最大値を取るxをopt関数で算出。\n",
        "y_max = f(res)"
      ],
      "execution_count": 25,
      "outputs": [
        {
          "output_type": "stream",
          "text": [
            "Optimization terminated successfully.\n",
            "         Current function value: -1.443376\n",
            "         Iterations: 10\n",
            "         Function evaluations: 20\n"
          ],
          "name": "stdout"
        }
      ]
    },
    {
      "cell_type": "code",
      "metadata": {
        "id": "QRM__r4TNf4a",
        "outputId": "1f671e40-fadb-43bd-a145-28d195dfa2c7",
        "colab": {
          "base_uri": "https://localhost:8080/",
          "height": 34
        }
      },
      "source": [
        "y_max"
      ],
      "execution_count": 26,
      "outputs": [
        {
          "output_type": "execute_result",
          "data": {
            "text/plain": [
              "array([1.44337567])"
            ]
          },
          "metadata": {
            "tags": []
          },
          "execution_count": 26
        }
      ]
    },
    {
      "cell_type": "markdown",
      "metadata": {
        "id": "XDhU5XsVjkCa"
      },
      "source": [
        "今回使う一様分布"
      ]
    },
    {
      "cell_type": "code",
      "metadata": {
        "id": "Kw6J7XDiyI-q",
        "outputId": "fae7f3db-0a2a-417d-8ce9-581895ae1706",
        "colab": {
          "base_uri": "https://localhost:8080/",
          "height": 282
        }
      },
      "source": [
        "x = np.linspace(-1,2,1000)\n",
        "plt.plot(x, uniform.pdf(x,loc =0,scale=1))"
      ],
      "execution_count": 70,
      "outputs": [
        {
          "output_type": "execute_result",
          "data": {
            "text/plain": [
              "[<matplotlib.lines.Line2D at 0x7efe7bdcee48>]"
            ]
          },
          "metadata": {
            "tags": []
          },
          "execution_count": 70
        },
        {
          "output_type": "display_data",
          "data": {
            "image/png": "[encoded data removed]",
            "text/plain": [
              "<Figure size 432x288 with 1 Axes>"
            ]
          },
          "metadata": {
            "tags": [],
            "needs_background": "light"
          }
        }
      ]
    },
    {
      "cell_type": "markdown",
      "metadata": {
        "id": "ZIpZidwujoY0"
      },
      "source": [
        "**ベータ分布に対する棄却サンプリング**"
      ]
    },
    {
      "cell_type": "code",
      "metadata": {
        "id": "HF2GbGs_Nrs0",
        "outputId": "e8a96c15-c7cc-4de9-bc90-860e1f57b900",
        "colab": {
          "base_uri": "https://localhost:8080/",
          "height": 282
        }
      },
      "source": [
        "f = beta(a=a, b=b).pdf #数式のまま変数に代入\n",
        "N = 5000          #サンプリングする回数\n",
        "x_mc = uniform.rvs(size = N)　#一様分布からN個サンプリング\n",
        "r = uniform.rvs(size = N) * y_max #y_max倍することで一様分布を目標分布にピッタリ合うようにする\n",
        "accept = x_mc[ r <= f(x_mc)]　\n",
        "plt.hist(accept, density = True, bins = 30,rwidth = 0.8)\n",
        "a = 1.5\n",
        "b = 2.0\n",
        "x = np.linspace(0,1,1000)\n",
        "plt.plot(x, beta.pdf(x,a,b))"
      ],
      "execution_count": 28,
      "outputs": [
        {
          "output_type": "execute_result",
          "data": {
            "text/plain": [
              "[<matplotlib.lines.Line2D at 0x7efe840e1828>]"
            ]
          },
          "metadata": {
            "tags": []
          },
          "execution_count": 28
        },
        {
          "output_type": "display_data",
          "data": {
            "image/png": "[encoded data removed]",
            "text/plain": [
              "<Figure size 432x288 with 1 Axes>"
            ]
          },
          "metadata": {
            "tags": []
          }
        }
      ]
    },
    {
      "cell_type": "markdown",
      "metadata": {
        "id": "hM39RVRPj0zb"
      },
      "source": [
        "**標準正規分布の棄却サンプリング**"
      ]
    },
    {
      "cell_type": "code",
      "metadata": {
        "id": "SiXt_Fy4ZJA9",
        "outputId": "2b738b2e-1890-4383-9a39-e3c83e7c5a2e",
        "colab": {
          "base_uri": "https://localhost:8080/",
          "height": 85
        }
      },
      "source": [
        "f = norm(loc = 0,scale = 1).pdf\n",
        "res = opt.fmin(lambda x: -f(x), -3)\n",
        "y_max = f(res)"
      ],
      "execution_count": 29,
      "outputs": [
        {
          "output_type": "stream",
          "text": [
            "Optimization terminated successfully.\n",
            "         Current function value: -0.398942\n",
            "         Iterations: 19\n",
            "         Function evaluations: 38\n"
          ],
          "name": "stdout"
        }
      ]
    },
    {
      "cell_type": "code",
      "metadata": {
        "id": "Md3ThJ4IpHxR",
        "outputId": "848fd00d-ef12-4e9d-db0a-2470f83af6f0",
        "colab": {
          "base_uri": "https://localhost:8080/",
          "height": 34
        }
      },
      "source": [
        "y_max"
      ],
      "execution_count": 30,
      "outputs": [
        {
          "output_type": "execute_result",
          "data": {
            "text/plain": [
              "array([0.39894228])"
            ]
          },
          "metadata": {
            "tags": []
          },
          "execution_count": 30
        }
      ]
    },
    {
      "cell_type": "code",
      "metadata": {
        "id": "DZ31MjqKpw1d",
        "outputId": "4a089912-25a8-4254-d18a-f6921dd58c7f",
        "colab": {
          "base_uri": "https://localhost:8080/",
          "height": 282
        }
      },
      "source": [
        "x = np.linspace(0,10,1000)\n",
        "plt.plot(x, uniform.pdf(x,loc =0,scale=10))"
      ],
      "execution_count": 20,
      "outputs": [
        {
          "output_type": "execute_result",
          "data": {
            "text/plain": [
              "[<matplotlib.lines.Line2D at 0x7efe8426b358>]"
            ]
          },
          "metadata": {
            "tags": []
          },
          "execution_count": 20
        },
        {
          "output_type": "display_data",
          "data": {
            "image/png": "[encoded data removed]",
            "text/plain": [
              "<Figure size 432x288 with 1 Axes>"
            ]
          },
          "metadata": {
            "tags": []
          }
        }
      ]
    },
    {
      "cell_type": "code",
      "metadata": {
        "id": "Kuy4OmE5pXqi",
        "outputId": "fbc744e8-3efb-494f-c1f7-860421158dda",
        "colab": {
          "base_uri": "https://localhost:8080/",
          "height": 282
        }
      },
      "source": [
        "f = norm(loc = 5,scale = 1).pdf\n",
        "N = 1000000\n",
        "x_mc = uniform.rvs(loc =0,scale=10,size = N)\n",
        "r = uniform.rvs(loc =0,scale=10,size = N) * y_max\n",
        "accept = x_mc[ r <= f(x_mc)]\n",
        "plt.hist(accept, density = True, bins = 100,rwidth = 0.5)\n",
        "x = np.linspace(0,10,1000)\n",
        "plt.plot(x, norm.pdf(x=x,loc=5,scale=1))"
      ],
      "execution_count": 18,
      "outputs": [
        {
          "output_type": "execute_result",
          "data": {
            "text/plain": [
              "[<matplotlib.lines.Line2D at 0x7efe844178d0>]"
            ]
          },
          "metadata": {
            "tags": []
          },
          "execution_count": 18
        },
        {
          "output_type": "display_data",
          "data": {
            "image/png": "[encoded data removed]",
            "text/plain": [
              "<Figure size 432x288 with 1 Axes>"
            ]
          },
          "metadata": {
            "tags": []
          }
        }
      ]
    }
  ]
}